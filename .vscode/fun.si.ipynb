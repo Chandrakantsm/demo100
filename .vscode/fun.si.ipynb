{
 "cells": [
  {
   "cell_type": "code",
   "execution_count": 1,
   "metadata": {},
   "outputs": [
    {
     "name": "stdout",
     "output_type": "stream",
     "text": [
      "16.0\n"
     ]
    },
    {
     "ename": "NameError",
     "evalue": "name 'p' is not defined",
     "output_type": "error",
     "traceback": [
      "\u001b[1;31m---------------------------------------------------------------------------\u001b[0m",
      "\u001b[1;31mNameError\u001b[0m                                 Traceback (most recent call last)",
      "Cell \u001b[1;32mIn[1], line 16\u001b[0m\n\u001b[0;32m     14\u001b[0m a\u001b[39m=\u001b[39mgetdata() \n\u001b[0;32m     15\u001b[0m \u001b[39mprint\u001b[39m(a)\n\u001b[1;32m---> 16\u001b[0m \u001b[39mprint\u001b[39m(\u001b[39m\"\u001b[39m\u001b[39mThe interest for\u001b[39m\u001b[39m\"\u001b[39m,p,\u001b[39m\"\u001b[39m\u001b[39mfor \u001b[39m\u001b[39m\"\u001b[39m,t,\u001b[39m\"\u001b[39m\u001b[39myears\u001b[39m\u001b[39m\"\u001b[39m,\u001b[39m\"\u001b[39m\u001b[39mat \u001b[39m\u001b[39m\"\u001b[39m,r,\u001b[39m\"\u001b[39m\u001b[39m%\u001b[39m\u001b[39m\\\\\u001b[39;00m\u001b[39mis rs\u001b[39m\u001b[39m\"\u001b[39m,a)\n\u001b[0;32m     17\u001b[0m \u001b[39mprint\u001b[39m(a\u001b[39m+\u001b[39m\u001b[39m1\u001b[39m)\n",
      "\u001b[1;31mNameError\u001b[0m: name 'p' is not defined"
     ]
    }
   ],
   "source": [
    "#  prg to calculate simple interest \n",
    "def getdata():\n",
    "    p=float(input(\"Enter the amount in Rs:\"))\n",
    "    t=float(input(\"Enter the time in years:\"))\n",
    "    r=float(input(\"Enter the rate of interest in %:\"))\n",
    "    \n",
    "    si=calculate(p,t,r)\n",
    "    return si\n",
    "         \n",
    "def calculate(p,t,r):\n",
    "    si=p*t*r/100\n",
    "    return si\n",
    "\n",
    "a=getdata() \n",
    "print(a)\n",
    "print(\"The interest for\",p,\"for \",t,\"years\",\"at \",r,\"%\\\\is rs\",a)\n",
    "print(a+1)\n",
    "   "
   ]
  }
 ],
 "metadata": {
  "kernelspec": {
   "display_name": "Python 3",
   "language": "python",
   "name": "python3"
  },
  "language_info": {
   "codemirror_mode": {
    "name": "ipython",
    "version": 3
   },
   "file_extension": ".py",
   "mimetype": "text/x-python",
   "name": "python",
   "nbconvert_exporter": "python",
   "pygments_lexer": "ipython3",
   "version": "3.11.2"
  },
  "orig_nbformat": 4
 },
 "nbformat": 4,
 "nbformat_minor": 2
}
