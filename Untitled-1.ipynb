{
 "cells": [
  {
   "attachments": {},
   "cell_type": "markdown",
   "metadata": {},
   "source": [
    "sets"
   ]
  },
  {
   "cell_type": "code",
   "execution_count": null,
   "metadata": {},
   "outputs": [],
   "source": [
    "set1={1,2,3,4}     \n",
    "print(set1)\n"
   ]
  },
  {
   "cell_type": "code",
   "execution_count": null,
   "metadata": {},
   "outputs": [],
   "source": [
    "set1 = {\"apple\", \"banana\",4, \"cherry\"}\n",
    "set2 = {1, 5, 7, \"a\",9, 3}\n",
    "set3 = {True, False,0,1, False}\n",
    "\n",
    "print(set1)\n",
    "print(set2)\n",
    "print(set3)\n"
   ]
  },
  {
   "cell_type": "code",
   "execution_count": null,
   "metadata": {},
   "outputs": [],
   "source": [
    "# prints lentgh of the set\n",
    "print(\"length of the set1 is \",len(set1))\n",
    "\n",
    "# set with all data types\n",
    "setall={\"abc\",1,2,3,True,0}\n",
    "print(setall)\n",
    "\n",
    "setconstruct = set((\"a\",\"b\",\"c\",1,2,3)) # note the double round-brackets\n",
    "print(setconstruct)\n"
   ]
  },
  {
   "cell_type": "code",
   "execution_count": null,
   "metadata": {},
   "outputs": [],
   "source": [
    "setaccess={\"a\",\"b\",\"c\",\"d\",1,2,3,4}\n",
    "for i in setaccess:\n",
    "\tprint(i)"
   ]
  },
  {
   "cell_type": "code",
   "execution_count": null,
   "metadata": {},
   "outputs": [],
   "source": [
    "findsintheset={\"x\",\"y\",\"z\",\"s\",3,5,7,8}   \n",
    "print(\"z\" in findsintheset )"
   ]
  },
  {
   "cell_type": "code",
   "execution_count": null,
   "metadata": {},
   "outputs": [],
   "source": [
    "\n",
    "addtoset={1,2,4,5,6}\n",
    "addtoset.add(\"hubli\")\n",
    "print(addtoset)"
   ]
  },
  {
   "cell_type": "code",
   "execution_count": null,
   "metadata": {},
   "outputs": [],
   "source": [
    "set1={1,3,5,7}\n",
    "set2={2,4,6}\n",
    "set1.update(set2)\n",
    "print(set1)\n",
    "# adds or joins or updates new set into old one"
   ]
  },
  {
   "cell_type": "code",
   "execution_count": null,
   "metadata": {},
   "outputs": [],
   "source": [
    "list1=[2,4,6]\n",
    "set1.update(list1)\n",
    "print(set1)\n",
    "# any iterable can be addedinto sets"
   ]
  }
 ],
 "metadata": {
  "kernelspec": {
   "display_name": "Python 3",
   "language": "python",
   "name": "python3"
  },
  "language_info": {
   "name": "python",
   "version": "3.11.2"
  },
  "orig_nbformat": 4
 },
 "nbformat": 4,
 "nbformat_minor": 2
}
