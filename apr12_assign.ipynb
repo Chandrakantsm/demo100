{
 "cells": [
  {
   "cell_type": "code",
   "execution_count": 12,
   "metadata": {},
   "outputs": [
    {
     "name": "stdout",
     "output_type": "stream",
     "text": [
      "The area of the circle is  314.2857142857143\n"
     ]
    }
   ],
   "source": [
    "# prg to to find circle area\n",
    "def getdata(): \n",
    "    r=int(input(\"Enter the radius of the circle\"))\n",
    "    ans=calculate(r)\n",
    "    return ans\n",
    "    \n",
    "def calculate(r):\n",
    "    pi=22/7\n",
    "    area=pi*r*r\n",
    "    return area\n",
    "    \n",
    "print(\"The area of the circle is \",getdata())    \n",
    "    "
   ]
  },
  {
   "cell_type": "code",
   "execution_count": 4,
   "metadata": {},
   "outputs": [
    {
     "ename": "AttributeError",
     "evalue": "'str' object has no attribute 'tk'",
     "output_type": "error",
     "traceback": [
      "\u001b[1;31m---------------------------------------------------------------------------\u001b[0m",
      "\u001b[1;31mAttributeError\u001b[0m                            Traceback (most recent call last)",
      "Cell \u001b[1;32mIn[4], line 4\u001b[0m\n\u001b[0;32m      2\u001b[0m m\u001b[39m=\u001b[39m ck\u001b[39m.\u001b[39mTk()\u001b[39m.\u001b[39mgeometry(\u001b[39m\"\u001b[39m\u001b[39m400x600\u001b[39m\u001b[39m\"\u001b[39m)\n\u001b[0;32m      3\u001b[0m \u001b[39m# m.title(\"counting seconds\")\u001b[39;00m\n\u001b[1;32m----> 4\u001b[0m button \u001b[39m=\u001b[39m ck\u001b[39m.\u001b[39;49mButton(m, text \u001b[39m=\u001b[39;49m \u001b[39m\"\u001b[39;49m\u001b[39mHi\u001b[39;49m\u001b[39m\"\u001b[39;49m)\n\u001b[0;32m      5\u001b[0m button\u001b[39m.\u001b[39mgrid(row\u001b[39m=\u001b[39m\u001b[39m0\u001b[39m,coloumn\u001b[39m=\u001b[39m\u001b[39m0\u001b[39m)\n\u001b[0;32m      7\u001b[0m m\u001b[39m.\u001b[39mmainloop()\n",
      "File \u001b[1;32mc:\\Users\\User4\\AppData\\Local\\Programs\\Python\\Python311\\Lib\\tkinter\\__init__.py:2706\u001b[0m, in \u001b[0;36mButton.__init__\u001b[1;34m(self, master, cnf, **kw)\u001b[0m\n\u001b[0;32m   2687\u001b[0m \u001b[39mdef\u001b[39;00m \u001b[39m__init__\u001b[39m(\u001b[39mself\u001b[39m, master\u001b[39m=\u001b[39m\u001b[39mNone\u001b[39;00m, cnf\u001b[39m=\u001b[39m{}, \u001b[39m*\u001b[39m\u001b[39m*\u001b[39mkw):\n\u001b[0;32m   2688\u001b[0m \u001b[39m    \u001b[39m\u001b[39m\"\"\"Construct a button widget with the parent MASTER.\u001b[39;00m\n\u001b[0;32m   2689\u001b[0m \n\u001b[0;32m   2690\u001b[0m \u001b[39m    STANDARD OPTIONS\u001b[39;00m\n\u001b[1;32m   (...)\u001b[0m\n\u001b[0;32m   2704\u001b[0m \u001b[39m        overrelief, state, width\u001b[39;00m\n\u001b[0;32m   2705\u001b[0m \u001b[39m    \"\"\"\u001b[39;00m\n\u001b[1;32m-> 2706\u001b[0m     Widget\u001b[39m.\u001b[39;49m\u001b[39m__init__\u001b[39;49m(\u001b[39mself\u001b[39;49m, master, \u001b[39m'\u001b[39;49m\u001b[39mbutton\u001b[39;49m\u001b[39m'\u001b[39;49m, cnf, kw)\n",
      "File \u001b[1;32mc:\\Users\\User4\\AppData\\Local\\Programs\\Python\\Python311\\Lib\\tkinter\\__init__.py:2622\u001b[0m, in \u001b[0;36mBaseWidget.__init__\u001b[1;34m(self, master, widgetName, cnf, kw, extra)\u001b[0m\n\u001b[0;32m   2620\u001b[0m     cnf \u001b[39m=\u001b[39m _cnfmerge((cnf, kw))\n\u001b[0;32m   2621\u001b[0m \u001b[39mself\u001b[39m\u001b[39m.\u001b[39mwidgetName \u001b[39m=\u001b[39m widgetName\n\u001b[1;32m-> 2622\u001b[0m \u001b[39mself\u001b[39;49m\u001b[39m.\u001b[39;49m_setup(master, cnf)\n\u001b[0;32m   2623\u001b[0m \u001b[39mif\u001b[39;00m \u001b[39mself\u001b[39m\u001b[39m.\u001b[39m_tclCommands \u001b[39mis\u001b[39;00m \u001b[39mNone\u001b[39;00m:\n\u001b[0;32m   2624\u001b[0m     \u001b[39mself\u001b[39m\u001b[39m.\u001b[39m_tclCommands \u001b[39m=\u001b[39m []\n",
      "File \u001b[1;32mc:\\Users\\User4\\AppData\\Local\\Programs\\Python\\Python311\\Lib\\tkinter\\__init__.py:2591\u001b[0m, in \u001b[0;36mBaseWidget._setup\u001b[1;34m(self, master, cnf)\u001b[0m\n\u001b[0;32m   2589\u001b[0m     master \u001b[39m=\u001b[39m _get_default_root()\n\u001b[0;32m   2590\u001b[0m \u001b[39mself\u001b[39m\u001b[39m.\u001b[39mmaster \u001b[39m=\u001b[39m master\n\u001b[1;32m-> 2591\u001b[0m \u001b[39mself\u001b[39m\u001b[39m.\u001b[39mtk \u001b[39m=\u001b[39m master\u001b[39m.\u001b[39;49mtk\n\u001b[0;32m   2592\u001b[0m name \u001b[39m=\u001b[39m \u001b[39mNone\u001b[39;00m\n\u001b[0;32m   2593\u001b[0m \u001b[39mif\u001b[39;00m \u001b[39m'\u001b[39m\u001b[39mname\u001b[39m\u001b[39m'\u001b[39m \u001b[39min\u001b[39;00m cnf:\n",
      "\u001b[1;31mAttributeError\u001b[0m: 'str' object has no attribute 'tk'"
     ]
    }
   ],
   "source": [
    "import tkinter as ck\n",
    "m= ck.Tk().geometry(\"400x600\")\n",
    "# m.title(\"counting seconds\")\n",
    "button = ck.Button(m, text = \"Hi\")\n",
    "button.grid(row=0,coloumn=0)\n",
    "\n",
    "m.mainloop()"
   ]
  },
  {
   "cell_type": "code",
   "execution_count": 24,
   "metadata": {},
   "outputs": [
    {
     "name": "stdout",
     "output_type": "stream",
     "text": [
      "Numbers before swapping: a= 10  and  b= 20\n",
      "(20, 10)\n"
     ]
    }
   ],
   "source": [
    "#  prg to swap two numbers\n",
    "def getdata():\n",
    "    a=int(input(\"Enter first number\")) \n",
    "    b=int(input(\"Enter second number\"))\n",
    "    ans=swap(a,b)\n",
    "    return ans\n",
    "    \n",
    "def swap(a,b):  \n",
    "    print(\"Numbers before swapping: a=\",a,\" and  b=\",b)\n",
    "    a,b=b,a\n",
    "    return (a,b)\n",
    "    \n",
    "print(getdata())    \n",
    "    \n"
   ]
  },
  {
   "cell_type": "code",
   "execution_count": 46,
   "metadata": {},
   "outputs": [
    {
     "name": "stdout",
     "output_type": "stream",
     "text": [
      "The random number generated between 10 and 20 is 19 .\n"
     ]
    }
   ],
   "source": [
    "#  to generate a random number between 10 and 20\n",
    "#  import random module\n",
    "import random\n",
    "\n",
    "def randomnumber():\n",
    "    r=random.randint(10,20)\n",
    "    return r\n",
    "\n",
    "\n",
    "r=randomnumber()\n",
    "print(\"The random number generated between 10 and 20 is\", r,\".\")"
   ]
  },
  {
   "cell_type": "code",
   "execution_count": 58,
   "metadata": {},
   "outputs": [
    {
     "name": "stdout",
     "output_type": "stream",
     "text": [
      "20.0 Kilometers is 32.0 Miles.\n",
      "(20.0, 32.0)\n"
     ]
    }
   ],
   "source": [
    "#  prg to convert kilometers to miles\n",
    "def getdata(): \n",
    "    km=km1=float(input(\"Enter the kilometers:\"))\n",
    "    ans=convert(km)\n",
    "    display(km1,ans)\n",
    "    return (km1,ans)\n",
    "    \n",
    "def convert(a):    \n",
    "    miles=a*1.6\n",
    "    # print(miles)\n",
    "    return miles\n",
    "\n",
    "def display(a,b):\n",
    "    print(a,\"Kilometers is\",b,\"Miles.\")\n",
    "        \n",
    "print(getdata())    \n",
    " "
   ]
  }
 ],
 "metadata": {
  "kernelspec": {
   "display_name": "Python 3",
   "language": "python",
   "name": "python3"
  },
  "language_info": {
   "codemirror_mode": {
    "name": "ipython",
    "version": 3
   },
   "file_extension": ".py",
   "mimetype": "text/x-python",
   "name": "python",
   "nbconvert_exporter": "python",
   "pygments_lexer": "ipython3",
   "version": "3.11.2"
  },
  "orig_nbformat": 4
 },
 "nbformat": 4,
 "nbformat_minor": 2
}
