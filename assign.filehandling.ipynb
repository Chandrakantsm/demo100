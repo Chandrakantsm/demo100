{
 "cells": [
  {
   "attachments": {},
   "cell_type": "markdown",
   "metadata": {},
   "source": [
    "python program to fetch email id from a tgextfile containing name, roll no, email id , mobile no.\n"
   ]
  },
  {
   "cell_type": "code",
   "execution_count": null,
   "metadata": {},
   "outputs": [],
   "source": [
    "import re\n",
    "with open(\"input.txt\",\"r\") as f:\n",
    "for line in f:\n",
    "    match=re.search(r'\\b[A-Za-z0-9._%+-]+@[[A-Za-z0-9.-]+\\.[A-Z|a-Z]{2,}\\b',line)\n",
    "    if match:\n",
    "        email=match.group()\n",
    "        print(email)\n"
   ]
  }
 ],
 "metadata": {
  "kernelspec": {
   "display_name": "Python 3",
   "language": "python",
   "name": "python3"
  },
  "language_info": {
   "name": "python",
   "version": "3.11.2"
  },
  "orig_nbformat": 4
 },
 "nbformat": 4,
 "nbformat_minor": 2
}
