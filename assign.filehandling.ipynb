{
 "cells": [
  {
   "attachments": {},
   "cell_type": "markdown",
   "metadata": {},
   "source": [
    "python program to fetch email id from a tgextfile containing name, roll no, email id , mobile no.\n"
   ]
  },
  {
   "cell_type": "code",
   "execution_count": null,
   "metadata": {},
   "outputs": [],
   "source": [
    "import re\n",
    "with open(\"input.txt\",\"r\") as f:\n",
    "for line in f:\n",
    "    match=re.search(r'\\b[A-Za-z0-9._%+-]+@[[A-Za-z0-9.-]+\\.[A-Z|a-Z]{2,}\\b',line)\n",
    "    if match:\n",
    "        email=match.group()\n",
    "        print(email)\n"
   ]
  },
  {
   "cell_type": "code",
   "execution_count": null,
   "metadata": {},
   "outputs": [],
   "source": [
    "#  program to find intersection of elements from two lists\n",
    "list=[1,2,3,4,5,6,7,8,9,10,11,12,13,14,15,16,17,18,19,20,21,22,23,24,25,26]\n",
    "list_even=[]\n",
    "list_odd=[]\n",
    "for i in list:\n",
    "    if i%2==0:\n",
    "        list_even.append()\n",
    "    else:\n",
    "        list_odd.append()  \n",
    "        \n",
    "        \n",
    "    "
   ]
  }
 ],
 "metadata": {
  "kernelspec": {
   "display_name": "Python 3",
   "language": "python",
   "name": "python3"
  },
  "language_info": {
   "name": "python",
   "version": "3.11.2"
  },
  "orig_nbformat": 4
 },
 "nbformat": 4,
 "nbformat_minor": 2
}
