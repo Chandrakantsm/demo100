{
 "cells": [
  {
   "attachments": {},
   "cell_type": "markdown",
   "metadata": {},
   "source": [
    "python program to fetch email id from a tgextfile containing name, roll no, email id , mobile no.\n"
   ]
  },
  {
   "cell_type": "code",
   "execution_count": null,
   "metadata": {},
   "outputs": [],
   "source": [
    "import re\n",
    "with open(\"input.txt\",\"r\") as f:\n",
    "for line in f:\n",
    "    match=re.search(r'\\b[A-Za-z0-9._%+-]+@[[A-Za-z0-9.-]+\\.[A-Z|a-Z]{2,}\\b',line)\n",
    "    if match:\n",
    "        email=match.group()\n",
    "        print(email)\n"
   ]
  },
  {
   "cell_type": "code",
   "execution_count": null,
   "metadata": {},
   "outputs": [],
   "source": [
    "#  program to find intersection of elements from two lists\n",
    "list=[1,2,3,4,5,6,7,8,9,10,11,12,13,14,15,16,17,18,19,20,21,22,23,24,25,26]\n",
    "list_even=[]\n",
    "list_odd=[]\n",
    "for i in list:\n",
    "    if i%2==0:\n",
    "        list_even.append()\n",
    "    else:\n",
    "        list_odd.append()  \n",
    "        \n",
    "print(list.intersection(list_even))   \n",
    "print(list_even.intersection(list_odd))     \n"
   ]
  },
  {
   "cell_type": "code",
   "execution_count": null,
   "metadata": {},
   "outputs": [],
   "source": [
    "#  existing csv file \"student.csv\"\n",
    "import csv\n",
    "\n",
    "with open(\"sudents.csv\",'r') as file:\n",
    "    reader=csv.reader(file)\n",
    "    \n",
    "    #  skips header row\n",
    "    next(reader)\n",
    "    \n",
    "    #  loop over each row in csv file\n",
    "    for row in reader:\n",
    "        #  extract the data from the row\n",
    "        roll_no= row[0]\n",
    "        name=row[1]\n",
    "        class_name=row[2]\n",
    "        subject=row[3]\n",
    "        marks=int(row[4])\n",
    "        \n",
    "        # calculate the percentage \n",
    "        percentage=marks/100*100\n",
    "        \n",
    "        # find the result \n",
    "        result=\"pass\" if percentage>=40 else \"Fail\"\n",
    "        \n",
    "        # print the row data\n",
    "        print(f'{roll_no}\\t{name}\\t{class_name}\\t{subject}\\t{marks}\\t{percentage:.2f}%\\t{result}')\n",
    "        \n",
    "    \n",
    "    "
   ]
  },
  {
   "cell_type": "code",
   "execution_count": null,
   "metadata": {},
   "outputs": [],
   "source": [
    "# crate a student.csv file with column headers like name , calss , section.\n",
    "import csv\n",
    "\n",
    "#  define headers of first row\n",
    "header=[\"name\", \"class\",\"section\"]\n",
    "\n",
    "#data rows to be filled for above column headings\n",
    "data[\n",
    "    [\"john\",\"10\",\"section A \"]\n",
    "    [\"danny\",\"9\",\"section B\"]\n",
    "    [\"sachin\",\"8\",\"section C\"]\n",
    "    [\"virat\",\"7\",\"section D\"]\n",
    "    [\"kapil\",\"6\",\"Section E\"]\n",
    "    ] \n",
    "\n",
    "# open the csv file for writing\n",
    "with open(\"students.csv\",\"w\") as file:\n",
    "    # create  a csv writer object\n",
    "    writer=csv.writer(file)\n",
    "    \n",
    "    #  writes header rows to the csv file\n",
    "    writer.writerow(header)\n",
    "    \n",
    "    # write each data row to  csv file\n",
    "    for row in data:\n",
    "        writer.writerow(row)"
   ]
  }
 ],
 "metadata": {
  "kernelspec": {
   "display_name": "Python 3",
   "language": "python",
   "name": "python3"
  },
  "language_info": {
   "name": "python",
   "version": "3.11.2"
  },
  "orig_nbformat": 4
 },
 "nbformat": 4,
 "nbformat_minor": 2
}
