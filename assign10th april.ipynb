{
 "cells": [
  {
   "cell_type": "code",
   "execution_count": null,
   "metadata": {},
   "outputs": [],
   "source": [
    "# Eldest among the three\n",
    "a=int(input(\"Pls enter the age of 1st person\"))\n",
    "b=int(input(\"Pls enter the age of 2nd person\"))\n",
    "c=int(input(\"Pls enter the age of 3rd person\"))\n",
    "print(\"The ages of A:\",a,\"  B:\",b,\"  C:\",c)\n",
    "if a>b:\n",
    "    if a>c:\n",
    "        print(\"A is the eldest person\")\n",
    "    else:\n",
    "        print(\"c is the eldest person\")    \n",
    "elif b>c:\n",
    "    print(\"B is the eldest\")  "
   ]
  },
  {
   "cell_type": "code",
   "execution_count": null,
   "metadata": {},
   "outputs": [],
   "source": [
    "# is number entered positive or negative?\n",
    "n=int(input(\"Pls enter anumber\"))\n",
    "print(\"The number entered is:\",n)\n",
    "if n<0:\n",
    "    print(n,\" is a negative number. \")\n",
    "elif n==0:\n",
    "    print(n,\"is nither negative nor positive\")\n",
    "else:\n",
    "    print(n,\"is positive number.\")"
   ]
  },
  {
   "cell_type": "code",
   "execution_count": null,
   "metadata": {},
   "outputs": [],
   "source": [
    "# prime number\n",
    "n=10\n"
   ]
  },
  {
   "cell_type": "code",
   "execution_count": null,
   "metadata": {},
   "outputs": [],
   "source": [
    "# calculator\n",
    "n=int(input(\"Enter first number\"))\n",
    "m=int(input(\"Enter second number\"))\n",
    "o=operator_code=int(input(\"Pls enter 1 for addition, 2 for substraction,3 for multiplication,4 for division.\"))\n",
    "print(n,m,o)\n",
    "if o <2:\n",
    "    print(\"The addition of \",n,\"and\",m,\"is\", n+m)\n",
    "elif o>3:\n",
    "    print(\"The division of\",n,\"and\",m,\"is\", n/m  )\n",
    "elif o>1 and o<3:\n",
    "    print(\"The substraction of\",n,\"and\",m,\"is\", n-m)\n",
    "else:\n",
    "     print(\"The multiplicatio of\",n,\"and\",m,\"is\", n*m)\n",
    "         \n"
   ]
  },
  {
   "cell_type": "code",
   "execution_count": null,
   "metadata": {},
   "outputs": [],
   "source": [
    "# pass or fail 60%\n",
    "score=int(input(\"Pls enter the score\"))\n",
    "if score>60 or score==60:\n",
    "    print(\"student PASSES\")\n",
    "    Else:\n",
    "        print(\"student FAILS\")"
   ]
  }
 ],
 "metadata": {
  "kernelspec": {
   "display_name": "Python 3",
   "language": "python",
   "name": "python3"
  },
  "language_info": {
   "codemirror_mode": {
    "name": "ipython",
    "version": 3
   },
   "file_extension": ".py",
   "mimetype": "text/x-python",
   "name": "python",
   "nbconvert_exporter": "python",
   "pygments_lexer": "ipython3",
   "version": "3.11.2"
  },
  "orig_nbformat": 4
 },
 "nbformat": 4,
 "nbformat_minor": 2
}
