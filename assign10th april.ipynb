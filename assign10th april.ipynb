{
 "cells": [
  {
   "attachments": {},
   "cell_type": "markdown",
   "metadata": {},
   "source": [
    "Eldest among the three"
   ]
  },
  {
   "cell_type": "code",
   "execution_count": null,
   "metadata": {},
   "outputs": [],
   "source": [
    "a=int(input(\"Pls enter the age of 1st person\"))\n",
    "b=int(input(\"Pls enter the age of 2nd person\"))\n",
    "c=int(input(\"Pls enter the age of 3rd person\"))\n",
    "print(\"The ages of A:\",a,\"  B:\",b,\"  C:\",c)\n",
    "if a>b:\n",
    "    if a>c:\n",
    "        print(\"A is the eldest person\")\n",
    "    else:\n",
    "        print(\"c is the eldest person\")    \n",
    "elif b>c:\n",
    "    print(\"B is the eldest\")   \n"
   ]
  },
  {
   "attachments": {},
   "cell_type": "markdown",
   "metadata": {},
   "source": [
    "is number entered positive or negative?\n"
   ]
  },
  {
   "cell_type": "code",
   "execution_count": null,
   "metadata": {},
   "outputs": [],
   "source": [
    "n=int(input(\"Pls enter anumber\"))\n",
    "print(\"The number entered is:\",n)\n",
    "if n<0:\n",
    "    print(n,\" is a negative number. \")\n",
    "elif n==0:\n",
    "    print(n,\"is nither negative nor positive\")\n",
    "else:\n",
    "    print(n,\"is positive number.\")\n"
   ]
  },
  {
   "attachments": {},
   "cell_type": "markdown",
   "metadata": {},
   "source": [
    "prime number"
   ]
  },
  {
   "cell_type": "code",
   "execution_count": null,
   "metadata": {},
   "outputs": [],
   "source": [
    "n=int(input(\"Enter a number\"))\n"
   ]
  },
  {
   "cell_type": "markdown",
   "metadata": {},
   "source": []
  }
 ],
 "metadata": {
  "kernelspec": {
   "display_name": "Python 3",
   "language": "python",
   "name": "python3"
  },
  "language_info": {
   "codemirror_mode": {
    "name": "ipython",
    "version": 3
   },
   "file_extension": ".py",
   "mimetype": "text/x-python",
   "name": "python",
   "nbconvert_exporter": "python",
   "pygments_lexer": "ipython3",
   "version": "3.11.2"
  },
  "orig_nbformat": 4
 },
 "nbformat": 4,
 "nbformat_minor": 2
}
