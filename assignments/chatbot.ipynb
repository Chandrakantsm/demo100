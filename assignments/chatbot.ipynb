{
 "cells": [
  {
   "cell_type": "code",
   "execution_count": 1,
   "metadata": {},
   "outputs": [
    {
     "name": "stdout",
     "output_type": "stream",
     "text": [
      "You:  icecreams\n",
      "ChatPy: None\n",
      "You:  i need icecreams\n",
      "ChatPy: sure. i am happy to help you with icecreams.\n",
      "You:  \n",
      "ChatPy: None\n",
      "You:  how are you\n",
      "ChatPy: I'm good, thank you!\n",
      "You:  need icecreams\n",
      "ChatPy: None\n",
      "You:  \n",
      "ChatPy: None\n",
      "You:  \n",
      "ChatPy: None\n",
      "You:  \n",
      "ChatPy: None\n",
      "You:  \n",
      "ChatPy: None\n"
     ]
    }
   ],
   "source": [
    "def get_response(message):\n",
    "    message = message.lower()\n",
    "\n",
    "    if \"hi\" in message or \"hello\" in message:\n",
    "        return \"Hello!\"\n",
    "\n",
    "    if \"how are you\" in message:\n",
    "        return \"I'm good, thank you!\"\n",
    "\n",
    "    if \"what's your name\" in message or \"your name\" in message:\n",
    "        return \"I'm a chatbot. You can call me ChatPy.\"\n",
    "    \n",
    "    if \"i need icecreams\" in message or \" suggest icecreams\" in message:\n",
    "        return \"sure. i am happy to help you with icecreams.\"\n",
    "    \n",
    "\n",
    "    if \"quit\" in message or \"bye\" in message:\n",
    "        return \"Goodbye! Have a nice day!\"\n",
    "\n",
    "    # return \"Sorry, I don't understand. Can you please rephrase?\"\n",
    "\n",
    "while True:\n",
    "    y=user_input = input(\"You: \")\n",
    "    response = get_response(user_input)\n",
    "    print(\"You: \",y)\n",
    "    print(\"ChatPy:\", response)\n",
    "    if \"quit\" in user_input or \"bye\" in user_input:\n",
    "        break"
   ]
  }
 ],
 "metadata": {
  "kernelspec": {
   "display_name": "Python 3",
   "language": "python",
   "name": "python3"
  },
  "language_info": {
   "codemirror_mode": {
    "name": "ipython",
    "version": 3
   },
   "file_extension": ".py",
   "mimetype": "text/x-python",
   "name": "python",
   "nbconvert_exporter": "python",
   "pygments_lexer": "ipython3",
   "version": "3.11.3"
  },
  "orig_nbformat": 4
 },
 "nbformat": 4,
 "nbformat_minor": 2
}
