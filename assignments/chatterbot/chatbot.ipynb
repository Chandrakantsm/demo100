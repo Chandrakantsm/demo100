{
 "cells": [
  {
   "cell_type": "code",
   "execution_count": 3,
   "metadata": {},
   "outputs": [
    {
     "name": "stdout",
     "output_type": "stream",
     "text": [
      "You:  HI\n",
      "ChatPy: Hello!\n",
      "You:  I NEED ICECREAM\n",
      "ChatPy: None\n",
      "You:  \n",
      "ChatPy: None\n",
      "You:  i need icecreams \n",
      "ChatPy: sure. i am happy to help you with icecreams.\n"
     ]
    }
   ],
   "source": [
    "def get_response(message):\n",
    "    message = message.lower()\n",
    "\n",
    "    if \"hi\" in message or \"hello\" in message:\n",
    "        return \"Hello!\"\n",
    "\n",
    "    if \"how are you\" in message:\n",
    "        return \"I'm good, thank you!\"\n",
    "\n",
    "    if \"what's your name\" in message or \"your name\" in message:\n",
    "        return \"I'm a chatbot. You can call me ChatPy.\"\n",
    "    \n",
    "    if \"i need icecreams\" in message or \" suggest icecreams\" in message:\n",
    "        return \"sure. i am happy to help you with icecreams.\"\n",
    "    \n",
    "\n",
    "    if \"quit\" in message or \"bye\" in message:\n",
    "        return \"Goodbye! Have a nice day!\"\n",
    "\n",
    "    # return \"Sorry, I don't understand. Can you please rephrase?\"\n",
    "\n",
    "while True:\n",
    "    y=user_input = input(\"You: \")\n",
    "    response = get_response(user_input)\n",
    "    print(\"You: \",y)\n",
    "    print(\"ChatPy:\", response)\n",
    "    if \"quit\" in user_input or \"bye\" in user_input:\n",
    "        break"
   ]
  },
  {
   "cell_type": "code",
   "execution_count": 3,
   "metadata": {},
   "outputs": [
    {
     "ename": "ModuleNotFoundError",
     "evalue": "No module named 'chatterbot'",
     "output_type": "error",
     "traceback": [
      "\u001b[1;31m---------------------------------------------------------------------------\u001b[0m",
      "\u001b[1;31mModuleNotFoundError\u001b[0m                       Traceback (most recent call last)",
      "Cell \u001b[1;32mIn[3], line 1\u001b[0m\n\u001b[1;32m----> 1\u001b[0m \u001b[39mfrom\u001b[39;00m \u001b[39mchatterbot\u001b[39;00m \u001b[39mimport\u001b[39;00m ChatBot\n\u001b[0;32m      2\u001b[0m \u001b[39mfrom\u001b[39;00m \u001b[39mchatterbot\u001b[39;00m\u001b[39m.\u001b[39;00m\u001b[39mtrainers\u001b[39;00m \u001b[39mimport\u001b[39;00m ListTrainer\n\u001b[0;32m      6\u001b[0m \u001b[39m# Create a new chat bot named Charlie\u001b[39;00m\n",
      "\u001b[1;31mModuleNotFoundError\u001b[0m: No module named 'chatterbot'"
     ]
    }
   ],
   "source": [
    "from chatterbot import ChatBot\n",
    "from chatterbot.trainers import ListTrainer\n",
    "\n",
    "\n",
    "\n",
    "# Create a new chat bot named Charlie\n",
    "chatbot = ChatBot('Charlie')\n",
    "\n",
    "trainer = ListTrainer(chatbot)\n",
    "\n",
    "trainer.train([\n",
    "    \"Hi, can I help you?\",\n",
    "    \"Sure, I'd like to book a flight to Iceland.\",\n",
    "    \"Your flight has been booked.\"\n",
    "])\n",
    "\n",
    "# Get a response to the input text 'I would like to book a flight.'\n",
    "response = chatbot.get_response('I would like to book a flight.')\n",
    "\n",
    "print(response)"
   ]
  }
 ],
 "metadata": {
  "kernelspec": {
   "display_name": "Python 3",
   "language": "python",
   "name": "python3"
  },
  "language_info": {
   "codemirror_mode": {
    "name": "ipython",
    "version": 3
   },
   "file_extension": ".py",
   "mimetype": "text/x-python",
   "name": "python",
   "nbconvert_exporter": "python",
   "pygments_lexer": "ipython3",
   "version": "3.11.3"
  },
  "orig_nbformat": 4
 },
 "nbformat": 4,
 "nbformat_minor": 2
}
