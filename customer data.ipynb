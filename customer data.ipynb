{
 "cells": [
  {
   "attachments": {},
   "cell_type": "markdown",
   "metadata": {},
   "source": [
    "code to read  date,customers name, age ,profession, item purchased,amount in csv format and retrieve the data for one of the above data set for a given data point."
   ]
  },
  {
   "cell_type": "code",
   "execution_count": null,
   "metadata": {},
   "outputs": [],
   "source": [
    "# create a list to store data for each day\n",
    "data_list = []\n",
    "\n",
    "def submit():\n",
    "    # get the input values from the text boxes\n",
    "    name = name_entry.get()\n",
    "    age = age_entry.get()\n",
    "    profession = profession_entry.get()\n",
    "    item = item_entry.get()\n",
    "    amount = amount_entry.get()\n",
    "\n",
    "    # create a dictionary to store the data for the day\n",
    "    day_data = {'Name': name, 'Age': age, 'Profession': profession, 'Item': item, 'Amount': amount}\n",
    "\n",
    "    # append the day's data to the list of data\n",
    "    data_list.append(day_data)\n",
    "\n",
    "    # # clear the text boxes\n",
    "    # name_entry.delete(0, tk.END)\n",
    "    # age_entry.delete(0, tk.END)\n",
    "    # profession_entry.delete(0, tk.END)\n",
    "    # item_entry.delete(0, tk.END)\n",
    "    # amount_entry.delete(0, tk.END)\n",
    "\n",
    "def retrieve_data():\n",
    "    # loop through the list of data and display it in the console\n",
    "    for day_data in data_list:\n",
    "        print('Name:', day_data['Name'])\n",
    "        print('Age:', day_data['Age'])\n",
    "        print('Item:', day_data['Item'])\n",
    "        print('Amount:', day_data['Amount'])\n",
    "        print('--------------------------')\n",
    " \n",
    "submit()        \n",
    "        \n"
   ]
  },
  {
   "cell_type": "code",
   "execution_count": 2,
   "metadata": {},
   "outputs": [],
   "source": []
  }
 ],
 "metadata": {
  "kernelspec": {
   "display_name": "Python 3",
   "language": "python",
   "name": "python3"
  },
  "language_info": {
   "codemirror_mode": {
    "name": "ipython",
    "version": 3
   },
   "file_extension": ".py",
   "mimetype": "text/x-python",
   "name": "python",
   "nbconvert_exporter": "python",
   "pygments_lexer": "ipython3",
   "version": "3.11.2"
  },
  "orig_nbformat": 4
 },
 "nbformat": 4,
 "nbformat_minor": 2
}
