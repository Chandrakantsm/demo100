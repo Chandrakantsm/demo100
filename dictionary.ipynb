{
 "cells": [
  {
   "cell_type": "code",
   "execution_count": 17,
   "metadata": {},
   "outputs": [
    {
     "name": "stdout",
     "output_type": "stream",
     "text": [
      "{1: 'a', 4: 'c', 7: 'p', 6: 9}\n",
      "{'name': 'sky', 'name1': 'akash', 2.5: 12, (4+5j): 5}\n",
      "empty dictionary\n"
     ]
    },
    {
     "data": {
      "text/plain": [
       "{}"
      ]
     },
     "execution_count": 17,
     "metadata": {},
     "output_type": "execute_result"
    }
   ],
   "source": [
    "# create and print a dictinary\n",
    "# creating with integer keys\n",
    "dict={1:\"a\",4:\"c\",7:\"p\",6:9}\n",
    "print(dict)\n",
    "\n",
    "# creating with mixed keys keys and values can be any datatypes, provided the syntax is fallowed\n",
    "dict1={\"name\":\"sky\",\"name1\":\"akash\",2.5:12,4+5j:5}\n",
    "print(dict1)\n",
    "\n",
    "# creating empty dict\n",
    "dict={}\n",
    "print(\"empty dictionary\")\n",
    "dict\n"
   ]
  },
  {
   "cell_type": "code",
   "execution_count": null,
   "metadata": {},
   "outputs": [],
   "source": [
    "\n",
    "# creating dict with use of builtin function \n",
    "dicta = dict({1:1,2:2,3:3})\n",
    "print(dicta)\n",
    "\n",
    "# dict = dict ([(1,2),(3,4)])\n",
    "# dict\n",
    "\n",
    "# dict\n",
    "\n"
   ]
  },
  {
   "cell_type": "code",
   "execution_count": 25,
   "metadata": {},
   "outputs": [
    {
     "name": "stdout",
     "output_type": "stream",
     "text": [
      "{1: 2, 3: 4, 4: {8: 9, 5: 0}, 7: 7}\n"
     ]
    }
   ],
   "source": [
    "# creating a nested dictionary with nested dictionary\n",
    "dict={1:2,3:4,4:{8:9,5:0},7:7}\n",
    "print(dict)"
   ]
  },
  {
   "cell_type": "code",
   "execution_count": 41,
   "metadata": {},
   "outputs": [
    {
     "data": {
      "text/plain": [
       "{0: 'geeks',\n",
       " 1: 'for',\n",
       " 2: 'welcome',\n",
       " 'value_set': (2, 3, 4),\n",
       " 'nested': {1: 'a', 2: 'd', 5.5: (3+4j)}}"
      ]
     },
     "execution_count": 41,
     "metadata": {},
     "output_type": "execute_result"
    }
   ],
   "source": [
    "# adding elements to dictionary \n",
    "dict={}\n",
    "dict\n",
    "dict[0]=\"geeks\"\n",
    "dict[1]=\"for\"\n",
    "dict[2]=\"geeks\"\n",
    "dict\n",
    "\n",
    "# adding set values to a  single key\n",
    "dict[\"value_set\"]=2,3,4\n",
    "dict\n",
    "\n",
    "# updating existing key\"s values to new\n",
    "dict[2]=\"welcome\"\n",
    "dict\n",
    "\n",
    "# adding nested key value to dictionary\n",
    "dict[\"nested\"]={1:'a',2:\"d\",5.5:3+4j}\n",
    "dict\n"
   ]
  }
 ],
 "metadata": {
  "kernelspec": {
   "display_name": "Python 3",
   "language": "python",
   "name": "python3"
  },
  "language_info": {
   "codemirror_mode": {
    "name": "ipython",
    "version": 3
   },
   "file_extension": ".py",
   "mimetype": "text/x-python",
   "name": "python",
   "nbconvert_exporter": "python",
   "pygments_lexer": "ipython3",
   "version": "3.11.2"
  },
  "orig_nbformat": 4
 },
 "nbformat": 4,
 "nbformat_minor": 2
}
