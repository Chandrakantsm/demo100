{
 "cells": [
  {
   "cell_type": "code",
   "execution_count": 2,
   "metadata": {},
   "outputs": [
    {
     "name": "stdout",
     "output_type": "stream",
     "text": [
      "{1: 'a', 4: 'c', 7: 'p', 6: 9}\n",
      "{'name': 'sky', 'name1': 'akash', 2.5: 12, (4+5j): 5}\n"
     ]
    }
   ],
   "source": [
    "# create and print a dictinary\n",
    "# creating with integer keys\n",
    "dict={1:\"a\",4:\"c\",7:\"p\",6:9}\n",
    "print(dict)\n",
    "\n",
    "# creating with mixed keys\n",
    "dict1={\"name\":\"sky\",\"name1\":\"akash\",2.5:12,4+5j:5}\n",
    "print(dict1)\n",
    "\n"
   ]
  }
 ],
 "metadata": {
  "kernelspec": {
   "display_name": "Python 3",
   "language": "python",
   "name": "python3"
  },
  "language_info": {
   "codemirror_mode": {
    "name": "ipython",
    "version": 3
   },
   "file_extension": ".py",
   "mimetype": "text/x-python",
   "name": "python",
   "nbconvert_exporter": "python",
   "pygments_lexer": "ipython3",
   "version": "3.11.2"
  },
  "orig_nbformat": 4
 },
 "nbformat": 4,
 "nbformat_minor": 2
}
