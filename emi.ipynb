{
 "cells": [
  {
   "attachments": {},
   "cell_type": "markdown",
   "metadata": {},
   "source": [
    "code to show mobiles, select based on thier ram(gb ) capacity and price , design the emi structure"
   ]
  },
  {
   "cell_type": "code",
   "execution_count": 10,
   "metadata": {},
   "outputs": [
    {
     "name": "stdout",
     "output_type": "stream",
     "text": [
      " Currently we  offer 6 months , 12months,18months , 24 months \n"
     ]
    }
   ],
   "source": [
    "def getdata():\n",
    "#choose  your phone among the below\n",
    "    print(\"click 1 to select samsung \\nclick 2 to select vivo\\nclick 3 to select one plus\\nclick 4 to select iphone.\"  )\n",
    "    a=int(input(\"please enter the number for phone selected\"))\n",
    "    return a\n",
    "\n",
    "def price(p):\n",
    "    match p:\n",
    "        case 1:\n",
    "            print(\" samsung price: Rs 20000\")\n",
    "        case 2:\n",
    "            print(\" vivo price: Rs 40000\")    \n",
    "        case 3:\n",
    "            print(\" one plus price: Rs 60000\")\n",
    "        case 4:\n",
    "            print(\" iphone price: Rs 80000\") \n",
    "            \n",
    "def emi():\n",
    "    price=p= 20000\n",
    "    print(\" Currently we  offer 6 months , 12months,18months , 24 months \")\n",
    "    no_instalmets=n=t=int(input(\"Please choose number of monthly instalments\"))\n",
    "    return n\n",
    "\n",
    "def calculate():\n",
    "    p=20000\n",
    "    t=4\n",
    "    r=.12\n",
    "    ci=\n",
    "   \n",
    "                 \n",
    "            \n",
    "a=emi() \n",
    "print(a)\n",
    "\n",
    "\n"
   ]
  }
 ],
 "metadata": {
  "kernelspec": {
   "display_name": "Python 3",
   "language": "python",
   "name": "python3"
  },
  "language_info": {
   "codemirror_mode": {
    "name": "ipython",
    "version": 3
   },
   "file_extension": ".py",
   "mimetype": "text/x-python",
   "name": "python",
   "nbconvert_exporter": "python",
   "pygments_lexer": "ipython3",
   "version": "3.11.2"
  },
  "orig_nbformat": 4
 },
 "nbformat": 4,
 "nbformat_minor": 2
}
