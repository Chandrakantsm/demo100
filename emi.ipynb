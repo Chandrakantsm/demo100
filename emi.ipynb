{
 "cells": [
  {
   "attachments": {},
   "cell_type": "markdown",
   "metadata": {},
   "source": [
    "code to show mobiles, select based on thier ram(gb ) capacity and price , design the emi structure"
   ]
  },
  {
   "cell_type": "code",
   "execution_count": 14,
   "metadata": {},
   "outputs": [
    {
     "ename": "TypeError",
     "evalue": "'int' object is not callable",
     "output_type": "error",
     "traceback": [
      "\u001b[1;31m---------------------------------------------------------------------------\u001b[0m",
      "\u001b[1;31mTypeError\u001b[0m                                 Traceback (most recent call last)",
      "Cell \u001b[1;32mIn[14], line 31\u001b[0m\n\u001b[0;32m     28\u001b[0m     amount\u001b[39m=\u001b[39mp(\u001b[39m1\u001b[39m\u001b[39m+\u001b[39m(r\u001b[39m/\u001b[39mn))\u001b[39m*\u001b[39m\u001b[39m*\u001b[39m(n)\n\u001b[0;32m     29\u001b[0m     \u001b[39mprint\u001b[39m (amount)\n\u001b[1;32m---> 31\u001b[0m c\u001b[39m=\u001b[39mcalculate()\n\u001b[0;32m     32\u001b[0m \u001b[39mprint\u001b[39m(c)                 \n\u001b[0;32m     34\u001b[0m \u001b[39m# a=emi() \u001b[39;00m\n\u001b[0;32m     35\u001b[0m \u001b[39m# print(a)\u001b[39;00m\n",
      "Cell \u001b[1;32mIn[14], line 28\u001b[0m, in \u001b[0;36mcalculate\u001b[1;34m()\u001b[0m\n\u001b[0;32m     26\u001b[0m r\u001b[39m=\u001b[39m\u001b[39m.12\u001b[39m\n\u001b[0;32m     27\u001b[0m n\u001b[39m=\u001b[39m\u001b[39m4\u001b[39m\n\u001b[1;32m---> 28\u001b[0m amount\u001b[39m=\u001b[39mp(\u001b[39m1\u001b[39;49m\u001b[39m+\u001b[39;49m(r\u001b[39m/\u001b[39;49mn))\u001b[39m*\u001b[39m\u001b[39m*\u001b[39m(n)\n\u001b[0;32m     29\u001b[0m \u001b[39mprint\u001b[39m (amount)\n",
      "\u001b[1;31mTypeError\u001b[0m: 'int' object is not callable"
     ]
    }
   ],
   "source": [
    "def getdata():\n",
    "    #choose  your phone among the below\n",
    "    print(\"click 1 to select samsung \\nclick 2 to select vivo\\nclick 3 to select one plus\\nclick 4 to select iphone.\"  )\n",
    "    a=int(input(\"please enter the number for phone selected\"))\n",
    "    return a\n",
    "\n",
    "def price(p):\n",
    "    match p:\n",
    "        case 1:\n",
    "            print(\" samsung price: Rs 20000\")\n",
    "        case 2:\n",
    "            print(\" vivo price: Rs 40000\")    \n",
    "        case 3:\n",
    "            print(\" one plus price: Rs 60000\")\n",
    "        case 4:\n",
    "            print(\" iphone price: Rs 80000\") \n",
    "            \n",
    "def emi():\n",
    "    price=p= 20000\n",
    "    print(\" Currently we  offer 6 months , 12months,18months , 24 months \")\n",
    "    no_instalmets=n=t=int(input(\"Please choose number of monthly instalments\"))\n",
    "    return n\n",
    "\n",
    "def calculate():\n",
    "    p=20000\n",
    "    r=.12\n",
    "    n=4\n",
    "    amount=p(1+(r/n))**(n)\n",
    "    print (amount)\n",
    "   \n",
    "c=calculate()\n",
    "print(c)                 \n",
    "            \n",
    "# a=emi() \n",
    "# print(a)\n",
    "\n",
    "\n"
   ]
  }
 ],
 "metadata": {
  "kernelspec": {
   "display_name": "Python 3",
   "language": "python",
   "name": "python3"
  },
  "language_info": {
   "codemirror_mode": {
    "name": "ipython",
    "version": 3
   },
   "file_extension": ".py",
   "mimetype": "text/x-python",
   "name": "python",
   "nbconvert_exporter": "python",
   "pygments_lexer": "ipython3",
   "version": "3.11.2"
  },
  "orig_nbformat": 4
 },
 "nbformat": 4,
 "nbformat_minor": 2
}
