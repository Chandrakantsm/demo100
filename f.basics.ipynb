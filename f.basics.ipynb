{
 "cells": [
  {
   "cell_type": "code",
   "execution_count": 18,
   "metadata": {},
   "outputs": [
    {
     "name": "stdout",
     "output_type": "stream",
     "text": [
      "hello\n",
      "world\n",
      "python\n",
      "is\n",
      "good\n",
      "1\n",
      "2.3\n",
      "3\n",
      "4\n",
      "5\n",
      "6\n"
     ]
    }
   ],
   "source": [
    "def fun(*argv):\n",
    "    for arg in argv:\n",
    "        print(arg)\n",
    "\n",
    "\n",
    "fun('hello','world', 'python', 'is' ,'good')\n",
    "fun(1,2.3,3,4,5,6)"
   ]
  },
  {
   "cell_type": "code",
   "execution_count": 19,
   "metadata": {},
   "outputs": [
    {
     "name": "stdout",
     "output_type": "stream",
     "text": [
      "first==1\n",
      "mid==for\n",
      "last==geeks\n"
     ]
    }
   ],
   "source": [
    "def myfun(**kwargs):\n",
    "    for key,value in kwargs.items():\n",
    "        print(\"%s==%s\"%(key, value))\n",
    "        \n",
    "myfun(first='1',mid='for',last='geeks')        "
   ]
  },
  {
   "cell_type": "code",
   "execution_count": 20,
   "metadata": {},
   "outputs": [
    {
     "name": "stdout",
     "output_type": "stream",
     "text": [
      "i love india\n",
      "i love geeks for geeks.\n"
     ]
    },
    {
     "ename": "NameError",
     "evalue": "name 's' is not defined",
     "output_type": "error",
     "traceback": [
      "\u001b[1;31m---------------------------------------------------------------------------\u001b[0m",
      "\u001b[1;31mNameError\u001b[0m                                 Traceback (most recent call last)",
      "Cell \u001b[1;32mIn[20], line 13\u001b[0m\n\u001b[0;32m     10\u001b[0m     f2()\n\u001b[0;32m     12\u001b[0m f1()     \n\u001b[1;32m---> 13\u001b[0m \u001b[39mprint\u001b[39m(s)   \n",
      "\u001b[1;31mNameError\u001b[0m: name 's' is not defined"
     ]
    }
   ],
   "source": [
    "#  scope of global and local variables\n",
    "s1=\"i love india\"\n",
    "\n",
    "def f1():\n",
    "    print(s1)\n",
    "    s='i love geeks for geeks.'\n",
    "    def f2():\n",
    "        print(s)\n",
    "    \n",
    "    f2()\n",
    "\n",
    "f1()     \n",
    "print(s)   "
   ]
  },
  {
   "cell_type": "code",
   "execution_count": null,
   "metadata": {},
   "outputs": [
    {
     "name": "stdout",
     "output_type": "stream",
     "text": [
      "i love python\n"
     ]
    }
   ],
   "source": [
    "#  it will scan for global variables\n",
    "def f():\n",
    "    print(s)\n",
    "f()    \n",
    "s='i love python'\n",
    "\n",
    "\n",
    "    "
   ]
  },
  {
   "cell_type": "code",
   "execution_count": 22,
   "metadata": {},
   "outputs": [
    {
     "name": "stdout",
     "output_type": "stream",
     "text": [
      "global scope\n"
     ]
    }
   ],
   "source": [
    "#  it will print the values within premises, else beyond the premises\n",
    "x='global scope'\n",
    "def outer_fun():\n",
    "    \"\"\"abc\"\"\"\n",
    "    # x='enclosing scope'\n",
    "    def inner_fun():\n",
    "        # x=\"local scope\"\n",
    "        print(x) \n",
    "    inner_fun()\n",
    "outer_fun()        "
   ]
  },
  {
   "cell_type": "code",
   "execution_count": null,
   "metadata": {},
   "outputs": [],
   "source": [
    "def my_function():\n",
    "    \"\"\"writing this lines to understand \n",
    "        the how docstrings work\"\"\"\n",
    "    return None\n",
    "print()  \n",
    "# print(my_function.__doc__) \n",
    "\n",
    "print(\"using help\")\n",
    "help()\n",
    "# print(print.__doc__)   \n",
    "# print(len.__doc__)   \n",
    "# print(max.__doc__)\n",
    "\n",
    "print(outer_fun.__doc__)\n",
    "\n",
    "print()"
   ]
  },
  {
   "cell_type": "code",
   "execution_count": 33,
   "metadata": {},
   "outputs": [
    {
     "name": "stdout",
     "output_type": "stream",
     "text": [
      "use of def cube(), cube:  64\n",
      "using lambda function,cube: 216\n"
     ]
    }
   ],
   "source": [
    "# def cube(y):\n",
    "#     return y*y*y\n",
    "\n",
    "lambda_cube= lambda y: y*y*y\n",
    "\n",
    "\n",
    "# using function defined\n",
    "# using def key word\n",
    "print(\"use of def cube(), cube: \",cube(4))\n",
    "\n",
    "#  using the lambda function \n",
    "print(\"using lambda function,cube:\",lambda_cube(6))\n"
   ]
  }
 ],
 "metadata": {
  "kernelspec": {
   "display_name": "Python 3",
   "language": "python",
   "name": "python3"
  },
  "language_info": {
   "codemirror_mode": {
    "name": "ipython",
    "version": 3
   },
   "file_extension": ".py",
   "mimetype": "text/x-python",
   "name": "python",
   "nbconvert_exporter": "python",
   "pygments_lexer": "ipython3",
   "version": "3.11.2"
  },
  "orig_nbformat": 4
 },
 "nbformat": 4,
 "nbformat_minor": 2
}
