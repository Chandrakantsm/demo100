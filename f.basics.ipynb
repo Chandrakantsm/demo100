{
 "cells": [
  {
   "cell_type": "code",
   "execution_count": null,
   "metadata": {},
   "outputs": [],
   "source": [
    "def fun(*argv):\n",
    "    for arg in argv:\n",
    "        print(arg)\n",
    "\n",
    "\n",
    "fun('hello','world', 'python', 'is' ,'good')\n",
    "fun(1,2.3,3,4,5,6)"
   ]
  },
  {
   "cell_type": "code",
   "execution_count": null,
   "metadata": {},
   "outputs": [],
   "source": [
    "def myfun(**kwargs):\n",
    "    for key,value in kwargs.items():\n",
    "        print(\"%s==%s\"%(key, value))\n",
    "        \n",
    "myfun(first='1',mid='for',last='geeks')        "
   ]
  },
  {
   "cell_type": "code",
   "execution_count": 35,
   "metadata": {},
   "outputs": [
    {
     "name": "stdout",
     "output_type": "stream",
     "text": [
      "i love india\n",
      "i love geeks for geeks.\n",
      "i love india\n"
     ]
    }
   ],
   "source": [
    "#  scope of global and local variables\n",
    "s1=\"i love india\"\n",
    "\n",
    "def f1():\n",
    "    print(s1)\n",
    "    s='i love geeks for geeks.'\n",
    "    def f2():\n",
    "        print(s)\n",
    "    \n",
    "    f2()\n",
    "\n",
    "f1()     \n",
    "print(s)   "
   ]
  },
  {
   "cell_type": "code",
   "execution_count": 27,
   "metadata": {},
   "outputs": [
    {
     "name": "stdout",
     "output_type": "stream",
     "text": [
      "i love python\n"
     ]
    }
   ],
   "source": [
    "#  it will scan for global variables\n",
    "def f():\n",
    "    print(s)\n",
    "f()    \n",
    "s='i love python'\n",
    "\n",
    "\n",
    "    "
   ]
  },
  {
   "cell_type": "code",
   "execution_count": 39,
   "metadata": {},
   "outputs": [
    {
     "name": "stdout",
     "output_type": "stream",
     "text": [
      "enclosing scope\n"
     ]
    }
   ],
   "source": [
    "#  it will print the values within premises, else beyond the premises\n",
    "x='global scope'\n",
    "def outer_fun():\n",
    "    x='enclosing scope'\n",
    "    def inner_fun():\n",
    "        print(x) \n",
    "    inner_fun()\n",
    "outer_fun()        "
   ]
  }
 ],
 "metadata": {
  "kernelspec": {
   "display_name": "Python 3",
   "language": "python",
   "name": "python3"
  },
  "language_info": {
   "codemirror_mode": {
    "name": "ipython",
    "version": 3
   },
   "file_extension": ".py",
   "mimetype": "text/x-python",
   "name": "python",
   "nbconvert_exporter": "python",
   "pygments_lexer": "ipython3",
   "version": "3.11.2"
  },
  "orig_nbformat": 4
 },
 "nbformat": 4,
 "nbformat_minor": 2
}
