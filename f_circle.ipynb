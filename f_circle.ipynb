{
 "cells": [
  {
   "cell_type": "code",
   "execution_count": 11,
   "metadata": {},
   "outputs": [
    {
     "name": "stdout",
     "output_type": "stream",
     "text": [
      "314.2857142857143\n"
     ]
    }
   ],
   "source": [
    "# prg to to find circle area\n",
    "def getdata(): \n",
    "    r=int(input(\"Enter the radius of the circle\"))\n",
    "    ans=calculate(r)\n",
    "    return ans\n",
    "    \n",
    "def calculate(r):\n",
    "    pi=22/7\n",
    "    area=pi*r*r\n",
    "    return area\n",
    "    \n",
    "print(getdata())    \n",
    "    "
   ]
  }
 ],
 "metadata": {
  "kernelspec": {
   "display_name": "Python 3",
   "language": "python",
   "name": "python3"
  },
  "language_info": {
   "codemirror_mode": {
    "name": "ipython",
    "version": 3
   },
   "file_extension": ".py",
   "mimetype": "text/x-python",
   "name": "python",
   "nbconvert_exporter": "python",
   "pygments_lexer": "ipython3",
   "version": "3.11.2"
  },
  "orig_nbformat": 4
 },
 "nbformat": 4,
 "nbformat_minor": 2
}
