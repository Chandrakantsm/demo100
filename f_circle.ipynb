{
 "cells": [
  {
   "cell_type": "code",
   "execution_count": 12,
   "metadata": {},
   "outputs": [
    {
     "name": "stdout",
     "output_type": "stream",
     "text": [
      "The area of the circle is  314.2857142857143\n"
     ]
    }
   ],
   "source": [
    "# prg to to find circle area\n",
    "def getdata(): \n",
    "    r=int(input(\"Enter the radius of the circle\"))\n",
    "    ans=calculate(r)\n",
    "    return ans\n",
    "    \n",
    "def calculate(r):\n",
    "    pi=22/7\n",
    "    area=pi*r*r\n",
    "    return area\n",
    "    \n",
    "print(\"The area of the circle is \",getdata())    \n",
    "    "
   ]
  },
  {
   "cell_type": "code",
   "execution_count": 23,
   "metadata": {},
   "outputs": [
    {
     "name": "stdout",
     "output_type": "stream",
     "text": [
      "Numbers before swapping: a= 10  and  b= 20\n",
      "20 10\n",
      "(20, 10)\n"
     ]
    }
   ],
   "source": [
    "#  prg to swap two numbers\n",
    "def getdata():\n",
    "    a=int(input(\"Enter first number\")) \n",
    "    b=int(input(\"Enter second number\"))\n",
    "    ans=swap(a,b)\n",
    "    return ans\n",
    "    \n",
    "def swap(a,b):  \n",
    "    print(\"Numbers before swapping: a=\",a,\" and  b=\",b)\n",
    "    a,b=b,a\n",
    "    print(a,b)\n",
    "    return (a,b)\n",
    "    \n",
    "print(getdata())    \n",
    "    \n"
   ]
  }
 ],
 "metadata": {
  "kernelspec": {
   "display_name": "Python 3",
   "language": "python",
   "name": "python3"
  },
  "language_info": {
   "codemirror_mode": {
    "name": "ipython",
    "version": 3
   },
   "file_extension": ".py",
   "mimetype": "text/x-python",
   "name": "python",
   "nbconvert_exporter": "python",
   "pygments_lexer": "ipython3",
   "version": "3.11.2"
  },
  "orig_nbformat": 4
 },
 "nbformat": 4,
 "nbformat_minor": 2
}
