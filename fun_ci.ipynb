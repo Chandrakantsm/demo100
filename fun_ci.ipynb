{
 "cells": [
  {
   "cell_type": "code",
   "execution_count": 1,
   "metadata": {},
   "outputs": [
    {
     "name": "stdout",
     "output_type": "stream",
     "text": [
      "The compound interest for Rs 100.0 for 10.0 years @ 10.0  percent is 259.3742460100002\n"
     ]
    }
   ],
   "source": [
    "def getdata():\n",
    "    p=float(input(\"Enter the amount :\"))\n",
    "    t=float(input(\"Enter the time in years :\"))\n",
    "    r=float(input(\"Enter the rate of interest in % :\"))\n",
    "  \n",
    "    calculate(p,t,r)\n",
    "\n",
    "\n",
    "def calculate(p,t,r):\n",
    "    ci=p*(1+(r/100))**t\n",
    "    display (p,t,r,ci)\n",
    "\n",
    "def display(p,t,r,ci): \n",
    "    print(\"The compound interest for Rs\",p,\"for\",t,\"years @\",r,\" percent is\",ci)\n",
    "    \n",
    "getdata()    \n",
    "\n",
    "    \n",
    "\n"
   ]
  }
 ],
 "metadata": {
  "kernelspec": {
   "display_name": "Python 3",
   "language": "python",
   "name": "python3"
  },
  "language_info": {
   "codemirror_mode": {
    "name": "ipython",
    "version": 3
   },
   "file_extension": ".py",
   "mimetype": "text/x-python",
   "name": "python",
   "nbconvert_exporter": "python",
   "pygments_lexer": "ipython3",
   "version": "3.11.2"
  },
  "orig_nbformat": 4
 },
 "nbformat": 4,
 "nbformat_minor": 2
}
