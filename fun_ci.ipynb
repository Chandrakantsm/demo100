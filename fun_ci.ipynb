{
 "cells": [
  {
   "cell_type": "code",
   "execution_count": 15,
   "metadata": {},
   "outputs": [
    {
     "ename": "TypeError",
     "evalue": "'float' object is not callable",
     "output_type": "error",
     "traceback": [
      "\u001b[1;31m---------------------------------------------------------------------------\u001b[0m",
      "\u001b[1;31mTypeError\u001b[0m                                 Traceback (most recent call last)",
      "Cell \u001b[1;32mIn[15], line 13\u001b[0m\n\u001b[0;32m     10\u001b[0m     ci\u001b[39m=\u001b[39mp(\u001b[39m1\u001b[39m\u001b[39m+\u001b[39m(r\u001b[39m/\u001b[39m\u001b[39m100\u001b[39m))\u001b[39m*\u001b[39m\u001b[39m*\u001b[39mt\n\u001b[0;32m     11\u001b[0m     \u001b[39mreturn\u001b[39;00m ci\n\u001b[1;32m---> 13\u001b[0m a\u001b[39m=\u001b[39mgetdata()    \n\u001b[0;32m     14\u001b[0m \u001b[39mprint\u001b[39m(a)\n",
      "Cell \u001b[1;32mIn[15], line 6\u001b[0m, in \u001b[0;36mgetdata\u001b[1;34m()\u001b[0m\n\u001b[0;32m      3\u001b[0m t\u001b[39m=\u001b[39m\u001b[39mfloat\u001b[39m(\u001b[39minput\u001b[39m(\u001b[39m\"\u001b[39m\u001b[39mEnter the time in years :\u001b[39m\u001b[39m\"\u001b[39m))\n\u001b[0;32m      4\u001b[0m r\u001b[39m=\u001b[39m\u001b[39mfloat\u001b[39m(\u001b[39minput\u001b[39m(\u001b[39m\"\u001b[39m\u001b[39mEnter the rate of interest in \u001b[39m\u001b[39m%\u001b[39m\u001b[39m :\u001b[39m\u001b[39m\"\u001b[39m))\n\u001b[1;32m----> 6\u001b[0m ans\u001b[39m=\u001b[39mcalculate(p,t,r)\n\u001b[0;32m      7\u001b[0m \u001b[39mreturn\u001b[39;00m ans\n",
      "Cell \u001b[1;32mIn[15], line 10\u001b[0m, in \u001b[0;36mcalculate\u001b[1;34m(p, t, r)\u001b[0m\n\u001b[0;32m      9\u001b[0m \u001b[39mdef\u001b[39;00m \u001b[39mcalculate\u001b[39m(p,t,r):\n\u001b[1;32m---> 10\u001b[0m     ci\u001b[39m=\u001b[39mp(\u001b[39m1\u001b[39;49m\u001b[39m+\u001b[39;49m(r\u001b[39m/\u001b[39;49m\u001b[39m100\u001b[39;49m))\u001b[39m*\u001b[39m\u001b[39m*\u001b[39mt\n\u001b[0;32m     11\u001b[0m     \u001b[39mreturn\u001b[39;00m ci\n",
      "\u001b[1;31mTypeError\u001b[0m: 'float' object is not callable"
     ]
    }
   ],
   "source": [
    "def getdata():\n",
    "    p=float(input(\"Enter the amount :\"))\n",
    "    t=float(input(\"Enter the time in years :\"))\n",
    "    r=float(input(\"Enter the rate of interest in % :\"))\n",
    "  \n",
    "    ans=calculate(p,t,r)\n",
    "    return ans\n",
    "\n",
    "def calculate(p,t,r):\n",
    "    ci=p(1+(r/100))**t\n",
    "    return ci\n",
    "    \n",
    "a=getdata()    \n",
    "print(a)\n",
    "    \n",
    "\n"
   ]
  }
 ],
 "metadata": {
  "kernelspec": {
   "display_name": "Python 3",
   "language": "python",
   "name": "python3"
  },
  "language_info": {
   "codemirror_mode": {
    "name": "ipython",
    "version": 3
   },
   "file_extension": ".py",
   "mimetype": "text/x-python",
   "name": "python",
   "nbconvert_exporter": "python",
   "pygments_lexer": "ipython3",
   "version": "3.11.2"
  },
  "orig_nbformat": 4
 },
 "nbformat": 4,
 "nbformat_minor": 2
}
