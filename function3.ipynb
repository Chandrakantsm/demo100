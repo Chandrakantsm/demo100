{
 "cells": [
  {
   "cell_type": "code",
   "execution_count": 8,
   "metadata": {},
   "outputs": [
    {
     "name": "stdout",
     "output_type": "stream",
     "text": [
      "Entered value is odd\n",
      " the entered value 9 is even with remainder: 1\n"
     ]
    }
   ],
   "source": [
    "def main():\n",
    "    a=9\n",
    "    result=concat_function(a)\n",
    "    my_string=\"the entered value \" + str(a) + \" is even\" \" with remainder: \" + str(result)\n",
    "    display_result(my_string,result)\n",
    "    \n",
    "def oddeven(a,p) :\n",
    "    if a%2==0:\n",
    "        return\n",
    "           \n",
    "def concat_function(x):\n",
    "    return x % 2\n",
    "          \n",
    "def display_result(my_string,result): \n",
    "    if(result % 2 == 0):\n",
    "        print(\"Entered value is even\\n\",my_string)\n",
    "    else:\n",
    "        print(\"Entered value is odd\\n\",my_string)    \n",
    "    \n",
    "main()"
   ]
  }
 ],
 "metadata": {
  "kernelspec": {
   "display_name": "Python 3",
   "language": "python",
   "name": "python3"
  },
  "language_info": {
   "codemirror_mode": {
    "name": "ipython",
    "version": 3
   },
   "file_extension": ".py",
   "mimetype": "text/x-python",
   "name": "python",
   "nbconvert_exporter": "python",
   "pygments_lexer": "ipython3",
   "version": "3.11.2"
  },
  "orig_nbformat": 4
 },
 "nbformat": 4,
 "nbformat_minor": 2
}
