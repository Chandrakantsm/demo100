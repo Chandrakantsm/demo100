{
 "cells": [
  {
   "cell_type": "code",
   "execution_count": null,
   "metadata": {},
   "outputs": [],
   "source": [
    "# code to find the largest of 5 numbers given by the user"
   ]
  },
  {
   "cell_type": "code",
   "execution_count": 6,
   "metadata": {},
   "outputs": [
    {
     "name": "stdout",
     "output_type": "stream",
     "text": [
      "[5, 6, 3]\n",
      "largest element is : 6\n"
     ]
    }
   ],
   "source": [
    "list=[]\n",
    "n=int(input(\"enter n number\"))\n",
    "for i in range(1,n+1):\n",
    "    element=int(input(\"Enter elements of the list:\"))\n",
    "    list.append(element)\n",
    "print(list)    \n",
    "print(\"largest element is :\",max(list))\n",
    "    \n",
    "\n",
    "# print(num[2])\n",
    "# a=int(input(\"Enter a number: \"))\n",
    "# b=int(input(\"Enter a number: \"))\n",
    "# c=int(input(\"Enter a number: \"))\n",
    "# d=int(input(\"Enter a number: \"))\n",
    "# e=int(input(\"Enter a number: \"))\n",
    "\n",
    "# if a>b:\n",
    "#     big=a\n",
    "# else:\n",
    "#     big=b \n",
    "    \n",
    "# if big<c:\n",
    "#     big=c \n",
    "# elif big<d:\n",
    "#         big=d\n",
    "# elif big<e:\n",
    "#     big=e  \n",
    "#     print(big) \n",
    "\n",
    "# print(big)    \n",
    "                \n",
    "       \n",
    "   \n",
    "\n"
   ]
  },
  {
   "cell_type": "code",
   "execution_count": null,
   "metadata": {},
   "outputs": [],
   "source": []
  }
 ],
 "metadata": {
  "kernelspec": {
   "display_name": "Python 3",
   "language": "python",
   "name": "python3"
  },
  "language_info": {
   "codemirror_mode": {
    "name": "ipython",
    "version": 3
   },
   "file_extension": ".py",
   "mimetype": "text/x-python",
   "name": "python",
   "nbconvert_exporter": "python",
   "pygments_lexer": "ipython3",
   "version": "3.11.2"
  },
  "orig_nbformat": 4
 },
 "nbformat": 4,
 "nbformat_minor": 2
}
