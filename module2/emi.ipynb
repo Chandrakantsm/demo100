{
 "cells": [
  {
   "attachments": {},
   "cell_type": "markdown",
   "metadata": {},
   "source": [
    "code to show mobiles, select based on thier ram(gb ) capacity and price , design the emi structure"
   ]
  },
  {
   "cell_type": "code",
   "execution_count": 1,
   "metadata": {},
   "outputs": [
    {
     "ename": "TypeError",
     "evalue": "'int' object is not callable",
     "output_type": "error",
     "traceback": [
      "\u001b[1;31m---------------------------------------------------------------------------\u001b[0m",
      "\u001b[1;31mTypeError\u001b[0m                                 Traceback (most recent call last)",
      "Cell \u001b[1;32mIn[1], line 32\u001b[0m\n\u001b[0;32m     29\u001b[0m     \u001b[39mprint\u001b[39m (amount)\n\u001b[0;32m     30\u001b[0m     \u001b[39mreturn\u001b[39;00m amount\n\u001b[1;32m---> 32\u001b[0m c\u001b[39m=\u001b[39mcalculate()\n\u001b[0;32m     33\u001b[0m \u001b[39mprint\u001b[39m(c)                 \n\u001b[0;32m     35\u001b[0m \u001b[39m# a=emi() \u001b[39;00m\n\u001b[0;32m     36\u001b[0m \u001b[39m# print(a)\u001b[39;00m\n",
      "Cell \u001b[1;32mIn[1], line 28\u001b[0m, in \u001b[0;36mcalculate\u001b[1;34m()\u001b[0m\n\u001b[0;32m     26\u001b[0m r\u001b[39m=\u001b[39m\u001b[39m.12\u001b[39m\n\u001b[0;32m     27\u001b[0m n\u001b[39m=\u001b[39m\u001b[39m4\u001b[39m\n\u001b[1;32m---> 28\u001b[0m amount\u001b[39m=\u001b[39mp(\u001b[39m1\u001b[39;49m\u001b[39m+\u001b[39;49m(r\u001b[39m/\u001b[39;49mn))\u001b[39m*\u001b[39m\u001b[39m*\u001b[39m(n)\n\u001b[0;32m     29\u001b[0m \u001b[39mprint\u001b[39m (amount)\n\u001b[0;32m     30\u001b[0m \u001b[39mreturn\u001b[39;00m amount\n",
      "\u001b[1;31mTypeError\u001b[0m: 'int' object is not callable"
     ]
    }
   ],
   "source": [
    "def getdata():\n",
    "    #choose  your phone among the below\n",
    "    print(\"click 1 to select samsung \\nclick 2 to select vivo\\nclick 3 to select one plus\\nclick 4 to select iphone.\"  )\n",
    "    a=int(input(\"please enter the number for phone selected\"))\n",
    "    return a\n",
    "\n",
    "def price(p):\n",
    "    match p:\n",
    "        case 1:\n",
    "            print(\" samsung price: Rs 20000\")\n",
    "            t=instalmets=print(\"enter number of instalements from 6 to 12 \")\n",
    "        case 2:\n",
    "            print(\" vivo price: Rs 40000\")    \n",
    "        case 3:\n",
    "            print(\" one plus price: Rs 60000\")\n",
    "        case 4:\n",
    "            print(\" iphone price: Rs 80000\") \n",
    "            \n",
    "def emi():\n",
    "    def calculate(p,t,r):\n",
    "        ci=p*(1+(r/100))**t\n",
    "        \n",
    "   \n",
    "def calculate():\n",
    "    p=20000\n",
    "    r=.12\n",
    "    n=4\n",
    "    amount=p(1+(r/n))**(n)\n",
    "    print (amount)\n",
    "    return amount\n",
    "   \n",
    "c=calculate()\n",
    "print(c)                 \n",
    "            \n",
    "# a=emi() \n",
    "# print(a)\n",
    "\n",
    "\n"
   ]
  },
  {
   "cell_type": "code",
   "execution_count": 22,
   "metadata": {},
   "outputs": [
    {
     "name": "stdout",
     "output_type": "stream",
     "text": [
      "The compound interest for Rs 100.0 for 2.0 years @ 10.0  percent is 121.00000000000001\n",
      "6.722222222222223\n"
     ]
    }
   ],
   "source": [
    "def getdata():\n",
    "    p=float(input(\"Enter the amount :\"))\n",
    "    t=float(input(\"Enter the time in years :\"))\n",
    "    r=float(input(\"Enter the rate of interest in % :\"))\n",
    "  \n",
    "    calculate(p,t,r)\n",
    "\n",
    "\n",
    "def calculate(p,t,r):\n",
    "    ci=p*(1+(r/100))**t\n",
    "    display (p,t,r,ci)\n",
    "\n",
    "def display(p,t,r,ci): \n",
    "    print(\"The compound interest for Rs\",p,\"for\",t,\"years @\",r,\" percent is\",ci)\n",
    "   \n",
    "    \n",
    "getdata()  \n"
   ]
  }
 ],
 "metadata": {
  "kernelspec": {
   "display_name": "Python 3",
   "language": "python",
   "name": "python3"
  },
  "language_info": {
   "codemirror_mode": {
    "name": "ipython",
    "version": 3
   },
   "file_extension": ".py",
   "mimetype": "text/x-python",
   "name": "python",
   "nbconvert_exporter": "python",
   "pygments_lexer": "ipython3",
   "version": "3.11.2"
  },
  "orig_nbformat": 4
 },
 "nbformat": 4,
 "nbformat_minor": 2
}
