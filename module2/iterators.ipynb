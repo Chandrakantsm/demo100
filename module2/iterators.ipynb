{
 "cells": [
  {
   "cell_type": "code",
   "execution_count": 23,
   "metadata": {},
   "outputs": [
    {
     "name": "stdout",
     "output_type": "stream",
     "text": [
      "alpha\n",
      "beta\n",
      "gamma\n",
      "3\n",
      "4\n",
      "p\n",
      "y\n",
      "t\n",
      "h\n",
      "o\n",
      "n\n",
      "w\n",
      "o\n",
      "l\n",
      "d\n"
     ]
    }
   ],
   "source": [
    "mytuple=(\"alpha\",\"beta\",\"gamma\")\n",
    "myit=iter(mytuple)\n",
    "print(next(myit))\n",
    "print(next(myit))\n",
    "print(next(myit))\n",
    "\n",
    "list1=[1,2,3,4]\n",
    "myit=iter(list1)\n",
    "next(myit)\n",
    "next(myit)\n",
    "print(next(myit))\n",
    "print(next(myit))\n",
    "\n",
    "# iter() converts a string into iterable object\n",
    "str1=\"python\"\n",
    "iter1=iter(str1)\n",
    "# print(next(iter1))\n",
    "# print(next(iter1))\n",
    "# print(next(iter1))\n",
    "# print(next(iter1))\n",
    "# print(next(iter1))\n",
    "# print(next(iter1))\n",
    "\n",
    "for i in iter1:\n",
    "    print(i)\n",
    "    \n",
    "#  skips a item    \n",
    "str2=\"world\"  \n",
    "iter1=  iter(str2)\n",
    "for i in iter1:\n",
    "    if i==\"r\":\n",
    "        continue\n",
    "    print(i)   \n",
    "    \n",
    "# generators  \n",
    "def simplegeneratorffunction():\n",
    "    yield1\n",
    "    yield2\n",
    "    yield3\n",
    "    \n",
    "    \n",
    "    \n",
    "    \n",
    "\n",
    "\n",
    "\n"
   ]
  }
 ],
 "metadata": {
  "kernelspec": {
   "display_name": "Python 3",
   "language": "python",
   "name": "python3"
  },
  "language_info": {
   "codemirror_mode": {
    "name": "ipython",
    "version": 3
   },
   "file_extension": ".py",
   "mimetype": "text/x-python",
   "name": "python",
   "nbconvert_exporter": "python",
   "pygments_lexer": "ipython3",
   "version": "3.11.2"
  },
  "orig_nbformat": 4
 },
 "nbformat": 4,
 "nbformat_minor": 2
}
