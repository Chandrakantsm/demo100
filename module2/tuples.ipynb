{
 "cells": [
  {
   "attachments": {},
   "cell_type": "markdown",
   "metadata": {},
   "source": [
    "creating an empty tuple"
   ]
  },
  {
   "cell_type": "code",
   "execution_count": 86,
   "metadata": {},
   "outputs": [
    {
     "data": {
      "text/plain": [
       "()"
      ]
     },
     "execution_count": 86,
     "metadata": {},
     "output_type": "execute_result"
    }
   ],
   "source": [
    "tuple1=()\n",
    "tuple1"
   ]
  },
  {
   "attachments": {},
   "cell_type": "markdown",
   "metadata": {},
   "source": [
    "creating a tuple with use of string\n"
   ]
  },
  {
   "cell_type": "markdown",
   "metadata": {},
   "source": []
  },
  {
   "cell_type": "code",
   "execution_count": 87,
   "metadata": {},
   "outputs": [
    {
     "data": {
      "text/plain": [
       "('geeks', 'for')"
      ]
     },
     "execution_count": 87,
     "metadata": {},
     "output_type": "execute_result"
    }
   ],
   "source": [
    "tuple1=(\"geeks\", \"for\")\n",
    "tuple1"
   ]
  },
  {
   "attachments": {},
   "cell_type": "markdown",
   "metadata": {},
   "source": [
    "creating a tupe with the use of list"
   ]
  },
  {
   "cell_type": "code",
   "execution_count": 140,
   "metadata": {},
   "outputs": [],
   "source": [
    "# list=[1,2,3,5,7,8]\n",
    "# print(list)\n",
    "# print(tuple(list))\n",
    "# # proble here"
   ]
  },
  {
   "cell_type": "code",
   "execution_count": 139,
   "metadata": {},
   "outputs": [],
   "source": [
    "# t1=tuple([1,2,3,4,5])\n",
    "# t1"
   ]
  },
  {
   "cell_type": "code",
   "execution_count": null,
   "metadata": {},
   "outputs": [
    {
     "data": {
      "text/plain": [
       "(1, 4, 'geeks', 'g', 'for')"
      ]
     },
     "execution_count": 80,
     "metadata": {},
     "output_type": "execute_result"
    }
   ],
   "source": [
    "# creating tuple with mixed datatypes\n",
    "tuple1=(1,4,\"geeks\",\"g\",\"for\")\n",
    "tuple1"
   ]
  },
  {
   "cell_type": "code",
   "execution_count": null,
   "metadata": {},
   "outputs": [
    {
     "data": {
      "text/plain": [
       "((5, 8, 7, 9), ('geeks', 'for', 'geeks'))"
      ]
     },
     "execution_count": 79,
     "metadata": {},
     "output_type": "execute_result"
    }
   ],
   "source": [
    "# creating a tuple with nested tuples\n",
    "tuple1=(5,8,7,9)\n",
    "tuple2=(\"geeks\",\"for\",\"geeks\")\n",
    "tuple3=(tuple1,tuple2)\n",
    "tuple3"
   ]
  },
  {
   "cell_type": "code",
   "execution_count": null,
   "metadata": {},
   "outputs": [
    {
     "data": {
      "text/plain": [
       "(1, 2, 3, 'teeks', 1, 2, 3, 'teeks', 1, 2, 3, 'teeks')"
      ]
     },
     "execution_count": 78,
     "metadata": {},
     "output_type": "execute_result"
    }
   ],
   "source": [
    "# creating a tuple with repetation\n",
    "tuple1=(1,2,3,\"teeks\")*3\n",
    "tuple1"
   ]
  },
  {
   "cell_type": "markdown",
   "metadata": {},
   "source": []
  },
  {
   "cell_type": "code",
   "execution_count": null,
   "metadata": {},
   "outputs": [
    {
     "name": "stdout",
     "output_type": "stream",
     "text": [
      "('geeks',)\n",
      "(('geeks',),)\n",
      "((('geeks',),),)\n"
     ]
    }
   ],
   "source": [
    "# creating a tuple with the loop\n",
    "tuple1=(\"geeks\")\n",
    "n=3\n",
    "for i in range(int(n)):\n",
    "    tuple1=(tuple1,) \n",
    "    # , inthe above line making lot of difference\n",
    "    print(tuple1)"
   ]
  },
  {
   "cell_type": "code",
   "execution_count": 141,
   "metadata": {},
   "outputs": [
    {
     "name": "stdout",
     "output_type": "stream",
     "text": [
      "a\n"
     ]
    },
    {
     "data": {
      "text/plain": [
       "'h'"
      ]
     },
     "execution_count": 141,
     "metadata": {},
     "output_type": "execute_result"
    }
   ],
   "source": [
    "# accessing tuples with indices\n",
    "tuple=(\"a\",\"b\",\"geeks\",\"h\",5,6.8)\n",
    "print(tuple[0])\n",
    "tuple[2]\n",
    "tuple[-3]"
   ]
  },
  {
   "cell_type": "code",
   "execution_count": null,
   "metadata": {},
   "outputs": [
    {
     "name": "stdout",
     "output_type": "stream",
     "text": [
      "geeks for geeks hubli is  a city\n"
     ]
    }
   ],
   "source": [
    "# tuple unpacking\n",
    "tuple=(\"geeks\",\"for\",\"geeks\",\"hubli\",\"is \",\"a\",\"city\")\n",
    "a,b,c,d,e,f,g=tuple\n",
    "print(a ,b, c,d,e,f,g)\n",
    "# how to assign when large values are there. how to unbox paragraphs"
   ]
  },
  {
   "cell_type": "code",
   "execution_count": 97,
   "metadata": {},
   "outputs": [
    {
     "data": {
      "text/plain": [
       "(1, 2, 3)"
      ]
     },
     "execution_count": 97,
     "metadata": {},
     "output_type": "execute_result"
    }
   ],
   "source": [
    "tuple=(1,2,3)\n",
    "tuple"
   ]
  },
  {
   "cell_type": "code",
   "execution_count": null,
   "metadata": {},
   "outputs": [
    {
     "data": {
      "text/plain": [
       "(1, 2, 5, 6, 'geeks', 'for', 'geeks')"
      ]
     },
     "execution_count": 65,
     "metadata": {},
     "output_type": "execute_result"
    }
   ],
   "source": [
    "# concatenation of tuples\n",
    "tuple1=(1,2,5,6)\n",
    "tuple2=(\"geeks\",\"for\",\"geeks\")\n",
    "tuple3=tuple1+tuple2\n",
    "tuple3"
   ]
  },
  {
   "cell_type": "code",
   "execution_count": 137,
   "metadata": {},
   "outputs": [],
   "source": [
    "# x = ('apple', 'banana',\"hi\", 'cherry')\n",
    "# y = enumerate(x)\n",
    "# list[y]\n",
    "\n",
    "# print(dict(y))"
   ]
  },
  {
   "cell_type": "code",
   "execution_count": 136,
   "metadata": {},
   "outputs": [
    {
     "name": "stdout",
     "output_type": "stream",
     "text": [
      "geeks for geeks\n",
      "g\n",
      "skeeg rof skeeg\n",
      " rof sk\n",
      " fo\n",
      "15\n",
      "<class 'tuple'>\n"
     ]
    }
   ],
   "source": [
    "#  slicing of tuples\n",
    "c = (\"geeks for geeks\")\n",
    "print(c[0::1])\n",
    "print(c[0:1:1])\n",
    "print(c[::-1])\n",
    "print(c[9:2:-1])\n",
    "print(c[5:8])\n",
    "#  tuple length\n",
    "print(len(c))\n",
    "\n",
    "# create tuple with one item\n",
    "d=(\"appale\",)\n",
    "\n",
    "print(type(d))\n",
    "\n"
   ]
  }
 ],
 "metadata": {
  "kernelspec": {
   "display_name": "Python 3",
   "language": "python",
   "name": "python3"
  },
  "language_info": {
   "codemirror_mode": {
    "name": "ipython",
    "version": 3
   },
   "file_extension": ".py",
   "mimetype": "text/x-python",
   "name": "python",
   "nbconvert_exporter": "python",
   "pygments_lexer": "ipython3",
   "version": "3.11.3"
  },
  "orig_nbformat": 4
 },
 "nbformat": 4,
 "nbformat_minor": 2
}
