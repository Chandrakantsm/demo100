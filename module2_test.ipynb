{
 "cells": [
  {
   "cell_type": "code",
   "execution_count": null,
   "metadata": {},
   "outputs": [],
   "source": [
    "# construct list of even numbers from a list of numbers in a csv sheet using list comprehension.\n",
    "import csv\n",
    "with open(\"C:/Users/User4/Desktop/list.csv\",\"r\") as li:\n",
    "    file=csv.reader(li)\n",
    "    \n",
    "#  selects 4th coulumn ie english and prints the data\n",
    "for i in li:\n",
    "    if i[4]==\"english\":\n",
    "        list_even=[i for i in i[4] if i%2==0 ]\n",
    "print(list_even)        \n",
    "    \n"
   ]
  },
  {
   "cell_type": "code",
   "execution_count": 9,
   "metadata": {},
   "outputs": [
    {
     "ename": "SyntaxError",
     "evalue": "invalid syntax (2463950473.py, line 5)",
     "output_type": "error",
     "traceback": [
      "\u001b[1;36m  Cell \u001b[1;32mIn[9], line 5\u001b[1;36m\u001b[0m\n\u001b[1;33m    salary=,\u001b[0m\n\u001b[1;37m           ^\u001b[0m\n\u001b[1;31mSyntaxError\u001b[0m\u001b[1;31m:\u001b[0m invalid syntax\n"
     ]
    }
   ],
   "source": [
    "#  employeec class  and a method\n",
    "class emp():\n",
    "    name=\"\"\n",
    "    position=\"\"\n",
    "    salary=,\n",
    "    \n",
    "     def__init__(self.name,self.position,self.salary):\n",
    "         self.name=name\n",
    "         self.position=position\n",
    "         self.salary=salary\n",
    "         \n",
    "emp1=emp(\"nick\",\"manager\",12000)  \n",
    "\n",
    "print(emp1.annual_salary)       \n",
    "         \n",
    "         "
   ]
  }
 ],
 "metadata": {
  "kernelspec": {
   "display_name": "Python 3",
   "language": "python",
   "name": "python3"
  },
  "language_info": {
   "codemirror_mode": {
    "name": "ipython",
    "version": 3
   },
   "file_extension": ".py",
   "mimetype": "text/x-python",
   "name": "python",
   "nbconvert_exporter": "python",
   "pygments_lexer": "ipython3",
   "version": "3.11.3"
  },
  "orig_nbformat": 4
 },
 "nbformat": 4,
 "nbformat_minor": 2
}
