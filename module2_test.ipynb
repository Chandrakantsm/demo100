{
 "cells": [
  {
   "cell_type": "code",
   "execution_count": 8,
   "metadata": {},
   "outputs": [
    {
     "ename": "ValueError",
     "evalue": "I/O operation on closed file.",
     "output_type": "error",
     "traceback": [
      "\u001b[1;31m---------------------------------------------------------------------------\u001b[0m",
      "\u001b[1;31mValueError\u001b[0m                                Traceback (most recent call last)",
      "Cell \u001b[1;32mIn[8], line 7\u001b[0m\n\u001b[0;32m      4\u001b[0m     file\u001b[39m=\u001b[39mcsv\u001b[39m.\u001b[39mreader(li)\n\u001b[0;32m      6\u001b[0m \u001b[39m#  selects 4th coulumn ie english and prints the data\u001b[39;00m\n\u001b[1;32m----> 7\u001b[0m \u001b[39mfor\u001b[39;00m i \u001b[39min\u001b[39;00m li:\n\u001b[0;32m      8\u001b[0m     \u001b[39mif\u001b[39;00m i[\u001b[39m4\u001b[39m]\u001b[39m==\u001b[39m\u001b[39m\"\u001b[39m\u001b[39menglish\u001b[39m\u001b[39m\"\u001b[39m:\n\u001b[0;32m      9\u001b[0m         list_even\u001b[39m=\u001b[39m[i \u001b[39mfor\u001b[39;00m i \u001b[39min\u001b[39;00m i[\u001b[39m4\u001b[39m] \u001b[39mif\u001b[39;00m i\u001b[39m%\u001b[39m\u001b[39m2\u001b[39m\u001b[39m==\u001b[39m\u001b[39m0\u001b[39m ]\n",
      "\u001b[1;31mValueError\u001b[0m: I/O operation on closed file."
     ]
    }
   ],
   "source": [
    "# construct list of even numbers from a list of numbers in a csv sheet using list comprehension.\n",
    "import csv\n",
    "with open(\"C:/Users/User4/Desktop/list.csv\",\"r\") as li:\n",
    "    file=csv.reader(li)\n",
    "    \n",
    "#  selects 4th coulumn ie english and prints the data\n",
    "for i in li:\n",
    "    if i[4]==\"english\":\n",
    "        list_even=[i for i in i[4] if i%2==0 ]\n",
    "print(list_even)        \n",
    "    \n"
   ]
  }
 ],
 "metadata": {
  "kernelspec": {
   "display_name": "Python 3",
   "language": "python",
   "name": "python3"
  },
  "language_info": {
   "codemirror_mode": {
    "name": "ipython",
    "version": 3
   },
   "file_extension": ".py",
   "mimetype": "text/x-python",
   "name": "python",
   "nbconvert_exporter": "python",
   "pygments_lexer": "ipython3",
   "version": "3.11.3"
  },
  "orig_nbformat": 4
 },
 "nbformat": 4,
 "nbformat_minor": 2
}
