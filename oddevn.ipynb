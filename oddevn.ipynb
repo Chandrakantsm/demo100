{
 "cells": [
  {
   "cell_type": "code",
   "execution_count": 14,
   "metadata": {},
   "outputs": [
    {
     "name": "stdout",
     "output_type": "stream",
     "text": [
      "True\n",
      "58 is even number\n"
     ]
    }
   ],
   "source": [
    "flag=False\n",
    "def func1(n):\n",
    "    if n%2==0:\n",
    "        flag=True\n",
    "        return flag\n",
    "            \n",
    "        print(n,\"is odd number\")\n",
    "\n",
    "n=int(input(\"enter anumber to check odd or even\"))\n",
    "ans= func1(n)   \n",
    "print(ans)\n",
    "if ans==True: \n",
    "    print(n,\"is even number\")\n",
    "else: \n",
    "    print(\"is odd number\")"
   ]
  }
 ],
 "metadata": {
  "kernelspec": {
   "display_name": "Python 3",
   "language": "python",
   "name": "python3"
  },
  "language_info": {
   "codemirror_mode": {
    "name": "ipython",
    "version": 3
   },
   "file_extension": ".py",
   "mimetype": "text/x-python",
   "name": "python",
   "nbconvert_exporter": "python",
   "pygments_lexer": "ipython3",
   "version": "3.11.2"
  },
  "orig_nbformat": 4
 },
 "nbformat": 4,
 "nbformat_minor": 2
}
