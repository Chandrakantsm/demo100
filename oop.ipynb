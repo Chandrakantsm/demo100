{
 "cells": [
  {
   "cell_type": "code",
   "execution_count": null,
   "metadata": {},
   "outputs": [],
   "source": [
    "class truck:\n",
    "    # properties or attributes\n",
    "    seat=2\n",
    "    tyre=6\n",
    "    fuel=\"D\"\n",
    "    carrier=\"goods\"\n",
    "    fuelstate=\"True\"\n",
    "    \n",
    "    # methods\n",
    "    def drive(self):\n",
    "        if self.fuelstate==True:\n",
    "            print(\"REady to drive. Fuel available.\")\n",
    "        else:\n",
    "            print(\"no fuel available\")\n",
    "             \n",
    "    def dashboard(self):\n",
    "        print(\"db\")\n",
    "            \n",
    "    def __init__(self,seat,tyre):  \n",
    "        self.seat=seat\n",
    "        self.tyre=tyre\n",
    "        self.fuel=\"petrol\"\n",
    "        self.carrier=\"Frozen foods\"\n",
    "        self.fuelstate=True\n",
    "obj=truck(4,10)\n",
    "obj.drive() \n",
    "obj.dashboard()\n",
    "\n",
    "print(obj.seat)\n",
    "print(obj.tyre)\n",
    "print(obj.fuel,obj.carrier,obj.fuelstate)\n",
    "                \n",
    "            \n",
    "    "
   ]
  },
  {
   "cell_type": "code",
   "execution_count": null,
   "metadata": {},
   "outputs": [],
   "source": [
    "# student name class 3 marks  display sum of all the three marks along with name of the student\n",
    "\n",
    "#  properties / attributes of the student class\n",
    "class student:\n",
    "    name=\"name\"\n",
    "    std=\"std\"\n",
    "    stats=stats\n",
    "    maths=maths\n",
    "    science=science\n",
    "    \n",
    "    def __init__(self,name,std,stats,maths,science):\n",
    "        self.name=name\n",
    "        self.std=std\n",
    "        self.stats=stats\n",
    "        self.maths=maths\n",
    "        self.science=science\n",
    "        \n",
    "        \n",
    "        \n",
    "    \n",
    "    \n"
   ]
  }
 ],
 "metadata": {
  "kernelspec": {
   "display_name": "Python 3",
   "language": "python",
   "name": "python3"
  },
  "language_info": {
   "codemirror_mode": {
    "name": "ipython",
    "version": 3
   },
   "file_extension": ".py",
   "mimetype": "text/x-python",
   "name": "python",
   "nbconvert_exporter": "python",
   "pygments_lexer": "ipython3",
   "version": "3.11.2"
  },
  "orig_nbformat": 4
 },
 "nbformat": 4,
 "nbformat_minor": 2
}
