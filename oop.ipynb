{
 "cells": [
  {
   "cell_type": "code",
   "execution_count": 8,
   "metadata": {},
   "outputs": [
    {
     "name": "stdout",
     "output_type": "stream",
     "text": [
      "REady to drive. Fuel available.\n",
      "4\n",
      "10\n",
      "petrol Frozen foods True\n"
     ]
    }
   ],
   "source": [
    "class truck:\n",
    "    # properties or attributes\n",
    "    seat=2\n",
    "    tyre=6\n",
    "    fuel=\"D\"\n",
    "    carrier=\"goods\"\n",
    "    fuelstate=\"True\"\n",
    "    \n",
    "    # methods\n",
    "    def drive(self):\n",
    "        if self.fuelstate==True:\n",
    "            print(\"REady to drive. Fuel available.\")\n",
    "        else:\n",
    "            print(\"no fuel available\") \n",
    "            \n",
    "    def __init__(self,seat,tyre):  \n",
    "        self.seat=seat\n",
    "        self.tyre=tyre\n",
    "        self.fuel=\"petrol\"\n",
    "        self.carrier=\"Frozen foods\"\n",
    "        self.fuelstate=True\n",
    "obj=truck(4,10)\n",
    "obj.drive() \n",
    "\n",
    "print(obj.seat)\n",
    "print(obj.tyre)\n",
    "print(obj.fuel,obj.carrier,obj.fuelstate)\n",
    "                \n",
    "            \n",
    "    "
   ]
  }
 ],
 "metadata": {
  "kernelspec": {
   "display_name": "Python 3",
   "language": "python",
   "name": "python3"
  },
  "language_info": {
   "codemirror_mode": {
    "name": "ipython",
    "version": 3
   },
   "file_extension": ".py",
   "mimetype": "text/x-python",
   "name": "python",
   "nbconvert_exporter": "python",
   "pygments_lexer": "ipython3",
   "version": "3.11.2"
  },
  "orig_nbformat": 4
 },
 "nbformat": 4,
 "nbformat_minor": 2
}
