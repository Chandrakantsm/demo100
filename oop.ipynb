{
 "cells": [
  {
   "cell_type": "code",
   "execution_count": null,
   "metadata": {},
   "outputs": [],
   "source": [
    "class truck:\n",
    "    # properties or attributes\n",
    "    seat=2\n",
    "    tyre=6\n",
    "    fuel=\"D\"\n",
    "    carrier=\"goods\"\n",
    "    fuelstate=\"True\"\n",
    "    \n",
    "    # methods\n",
    "    def drive(self):\n",
    "        if self.fuelstate==True:\n",
    "            print(\"REady to drive. Fuel available.\")\n",
    "        else:\n",
    "            print(\"no fuel available\")\n",
    "             \n",
    "    def dashboard(self):\n",
    "        print(\"db\")\n",
    "            \n",
    "    def __init__(self,seat,tyre):  \n",
    "        self.seat=seat\n",
    "        self.tyre=tyre\n",
    "        self.fuel=\"petrol\"\n",
    "        self.carrier=\"Frozen foods\"\n",
    "        self.fuelstate=True\n",
    "obj=truck(4,10)\n",
    "obj.drive() \n",
    "obj.dashboard()\n",
    "\n",
    "print(obj.seat)\n",
    "print(obj.tyre)\n",
    "print(obj.fuel,obj.carrier,obj.fuelstate)\n",
    "                \n",
    "            \n",
    "    "
   ]
  },
  {
   "cell_type": "code",
   "execution_count": 17,
   "metadata": {},
   "outputs": [
    {
     "name": "stdout",
     "output_type": "stream",
     "text": [
      "abc,5,50,60,70\n",
      "xyz,5,70,80,90\n",
      "mln,5,80,90,100\n"
     ]
    }
   ],
   "source": [
    "# student name class 3 marks  display sum of all the three marks along with name of the student\n",
    "\n",
    "#  properties / attributes of the student class\n",
    "class student:\n",
    "    name=\"\"\n",
    "    std=\"\"\n",
    "    stats=\"\"\n",
    "    maths=\"\"\n",
    "    science=\"\"\n",
    "    \n",
    "    # methods\n",
    "    def __init__(self,name,std,stats,maths,science):\n",
    "        self.name=name\n",
    "        self.std=std\n",
    "        self.stats=stats\n",
    "        self.maths=maths\n",
    "        self.science=science\n",
    "        \n",
    "    def showdetails(self):\n",
    "        print(self.name,self.std,self.stats,self.maths,self.science,sep=\",\")\n",
    "        \n",
    "        \n",
    "#  object/student creation        \n",
    "student1=student(\"abc\",5,50,60,70)\n",
    "student2=student(\"xyz\",5,70,80,90)\n",
    "student3=student(\"mln\",5,80,90,100)\n",
    "\n",
    "student1.showdetails()\n",
    "student2.showdetails()\n",
    "student3.showdetails()\n",
    "   \n"
   ]
  }
 ],
 "metadata": {
  "kernelspec": {
   "display_name": "Python 3",
   "language": "python",
   "name": "python3"
  },
  "language_info": {
   "codemirror_mode": {
    "name": "ipython",
    "version": 3
   },
   "file_extension": ".py",
   "mimetype": "text/x-python",
   "name": "python",
   "nbconvert_exporter": "python",
   "pygments_lexer": "ipython3",
   "version": "3.11.2"
  },
  "orig_nbformat": 4
 },
 "nbformat": 4,
 "nbformat_minor": 2
}
