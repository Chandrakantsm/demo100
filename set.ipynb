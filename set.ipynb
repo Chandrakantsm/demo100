{
 "cells": [
  {
   "cell_type": "code",
   "execution_count": 39,
   "metadata": {},
   "outputs": [
    {
     "name": "stdout",
     "output_type": "stream",
     "text": [
      "{}\n",
      "<class 'set'>\n",
      "{50, 20, 40, 10, 30}\n"
     ]
    },
    {
     "ename": "TypeError",
     "evalue": "'dict' object is not callable",
     "output_type": "error",
     "traceback": [
      "\u001b[1;31m---------------------------------------------------------------------------\u001b[0m",
      "\u001b[1;31mTypeError\u001b[0m                                 Traceback (most recent call last)",
      "Cell \u001b[1;32mIn[39], line 12\u001b[0m\n\u001b[0;32m      8\u001b[0m s\n\u001b[0;32m      9\u001b[0m \u001b[39m# print(): order is ignored. s order is considered\u001b[39;00m\n\u001b[0;32m     10\u001b[0m \n\u001b[0;32m     11\u001b[0m \u001b[39m#  creation set using builtin set()\u001b[39;00m\n\u001b[1;32m---> 12\u001b[0m ch\u001b[39m=\u001b[39m\u001b[39mset\u001b[39;49m((\u001b[39m\"\u001b[39;49m\u001b[39mhello\u001b[39;49m\u001b[39m\"\u001b[39;49m))\n\u001b[0;32m     13\u001b[0m \u001b[39mprint\u001b[39m(ch)\n",
      "\u001b[1;31mTypeError\u001b[0m: 'dict' object is not callable"
     ]
    }
   ],
   "source": [
    "#  creation of set by {}\n",
    "set={}\n",
    "print({})\n",
    "\n",
    "s={10,20,20,30,40,50}\n",
    "print(type(s))\n",
    "print(s) \n",
    "s\n",
    "# print(): order is ignored. s order is considered\n",
    "\n",
    "#  creation set using builtin set()\n",
    "ch=set((\"hello\"))\n",
    "print(ch)\n",
    "\n",
    "\n"
   ]
  },
  {
   "cell_type": "code",
   "execution_count": 42,
   "metadata": {},
   "outputs": [
    {
     "ename": "TypeError",
     "evalue": "'dict' object is not callable",
     "output_type": "error",
     "traceback": [
      "\u001b[1;31m---------------------------------------------------------------------------\u001b[0m",
      "\u001b[1;31mTypeError\u001b[0m                                 Traceback (most recent call last)",
      "Cell \u001b[1;32mIn[42], line 6\u001b[0m\n\u001b[0;32m      4\u001b[0m lst\n\u001b[0;32m      5\u001b[0m s\n\u001b[1;32m----> 6\u001b[0m thisset \u001b[39m=\u001b[39m \u001b[39mset\u001b[39;49m((\u001b[39m\"\u001b[39;49m\u001b[39mapple\u001b[39;49m\u001b[39m\"\u001b[39;49m, \u001b[39m\"\u001b[39;49m\u001b[39mbanana\u001b[39;49m\u001b[39m\"\u001b[39;49m, \u001b[39m\"\u001b[39;49m\u001b[39mcherry\u001b[39;49m\u001b[39m\"\u001b[39;49m)) \n\u001b[0;32m      7\u001b[0m \u001b[39mprint\u001b[39m(thisset)\n",
      "\u001b[1;31mTypeError\u001b[0m: 'dict' object is not callable"
     ]
    }
   ],
   "source": []
  }
 ],
 "metadata": {
  "kernelspec": {
   "display_name": "Python 3",
   "language": "python",
   "name": "python3"
  },
  "language_info": {
   "codemirror_mode": {
    "name": "ipython",
    "version": 3
   },
   "file_extension": ".py",
   "mimetype": "text/x-python",
   "name": "python",
   "nbconvert_exporter": "python",
   "pygments_lexer": "ipython3",
   "version": "3.11.2"
  },
  "orig_nbformat": 4
 },
 "nbformat": 4,
 "nbformat_minor": 2
}
