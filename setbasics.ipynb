set = {a,b,c,,e,1,2,e,3,3}
print(set)

print(len(set))


