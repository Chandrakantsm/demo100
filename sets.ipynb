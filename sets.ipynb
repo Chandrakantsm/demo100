{
 "cells": [
  {
   "attachments": {},
   "cell_type": "markdown",
   "metadata": {},
   "source": [
    "sets"
   ]
  },
  {
   "cell_type": "code",
   "execution_count": null,
   "metadata": {},
   "outputs": [],
   "source": [
    "set1={1,2,3,4}     \n",
    "print(set1)\n"
   ]
  },
  {
   "cell_type": "code",
   "execution_count": 1,
   "metadata": {},
   "outputs": [
    {
     "name": "stdout",
     "output_type": "stream",
     "text": [
      "{}\n",
      "<class 'set'>\n",
      "{50, 20, 40, 10, 30}\n"
     ]
    },
    {
     "ename": "TypeError",
     "evalue": "'dict' object is not callable",
     "output_type": "error",
     "traceback": [
      "\u001b[1;31m---------------------------------------------------------------------------\u001b[0m",
      "\u001b[1;31mTypeError\u001b[0m                                 Traceback (most recent call last)",
      "Cell \u001b[1;32mIn[1], line 12\u001b[0m\n\u001b[0;32m      8\u001b[0m s\n\u001b[0;32m      9\u001b[0m \u001b[39m# print(): order is ignored. s order is considered\u001b[39;00m\n\u001b[0;32m     10\u001b[0m \n\u001b[0;32m     11\u001b[0m \u001b[39m#  creation set using builtin set()\u001b[39;00m\n\u001b[1;32m---> 12\u001b[0m ch\u001b[39m=\u001b[39m\u001b[39mset\u001b[39;49m((\u001b[39m\"\u001b[39;49m\u001b[39mhello\u001b[39;49m\u001b[39m\"\u001b[39;49m))\n\u001b[0;32m     13\u001b[0m \u001b[39mprint\u001b[39m(ch)\n",
      "\u001b[1;31mTypeError\u001b[0m: 'dict' object is not callable"
     ]
    }
   ],
   "source": [
    "#  creation of set by {}\n",
    "set={}\n",
    "print({})\n",
    "\n",
    "s={10,20,20,30,40,50}\n",
    "print(type(s))\n",
    "print(s) \n",
    "s\n",
    "# print(): order is ignored. s order is considered\n",
    "\n",
    "#  creation set using builtin set()\n",
    "ch=set((\"hello\"))\n",
    "print(ch)"
   ]
  },
  {
   "cell_type": "code",
   "execution_count": 2,
   "metadata": {},
   "outputs": [
    {
     "ename": "TypeError",
     "evalue": "'dict' object is not callable",
     "output_type": "error",
     "traceback": [
      "\u001b[1;31m---------------------------------------------------------------------------\u001b[0m",
      "\u001b[1;31mTypeError\u001b[0m                                 Traceback (most recent call last)",
      "Cell \u001b[1;32mIn[2], line 6\u001b[0m\n\u001b[0;32m      4\u001b[0m lst\n\u001b[0;32m      5\u001b[0m s\n\u001b[1;32m----> 6\u001b[0m thisset \u001b[39m=\u001b[39m \u001b[39mset\u001b[39;49m((\u001b[39m\"\u001b[39;49m\u001b[39mapple\u001b[39;49m\u001b[39m\"\u001b[39;49m, \u001b[39m\"\u001b[39;49m\u001b[39mbanana\u001b[39;49m\u001b[39m\"\u001b[39;49m, \u001b[39m\"\u001b[39;49m\u001b[39mcherry\u001b[39;49m\u001b[39m\"\u001b[39;49m)) \n\u001b[0;32m      7\u001b[0m \u001b[39mprint\u001b[39m(thisset)\n",
      "\u001b[1;31mTypeError\u001b[0m: 'dict' object is not callable"
     ]
    }
   ],
   "source": [
    "#  coverting  list to set\n",
    "lst=[1,2,2,\"m\",\"n\",\"n\",1.5,1.5]\n",
    "# s=set{lst}\n",
    "lst\n",
    "s\n",
    "thisset = set((\"apple\", \"banana\", \"cherry\")) \n",
    "print(thisset)"
   ]
  },
  {
   "cell_type": "code",
   "execution_count": null,
   "metadata": {},
   "outputs": [],
   "source": [
    "set1 = {\"apple\", \"banana\",4, \"cherry\"}\n",
    "set2 = {1, 5, 7, \"a\",9, 3}\n",
    "set3 = {True, False,0,1, False}\n",
    "\n",
    "print(set1)\n",
    "print(set2)\n",
    "print(set3)\n"
   ]
  },
  {
   "cell_type": "code",
   "execution_count": null,
   "metadata": {},
   "outputs": [],
   "source": [
    "# prints lentgh of the set\n",
    "print(\"length of the set1 is \",len(set1))\n",
    "\n",
    "# set with all data types\n",
    "setall={\"abc\",1,2,3,True,0}\n",
    "print(setall)\n",
    "\n",
    "setconstruct = set((\"a\",\"b\",\"c\",1,2,3)) # note the double round-brackets\n",
    "print(setconstruct)\n"
   ]
  },
  {
   "cell_type": "code",
   "execution_count": null,
   "metadata": {},
   "outputs": [],
   "source": [
    "setaccess={\"a\",\"b\",\"c\",\"d\",1,2,3,4}\n",
    "for i in setaccess:\n",
    "\tprint(i)"
   ]
  },
  {
   "cell_type": "code",
   "execution_count": null,
   "metadata": {},
   "outputs": [],
   "source": [
    "findsintheset={\"x\",\"y\",\"z\",\"s\",3,5,7,8}   \n",
    "print(\"z\" in findsintheset )"
   ]
  },
  {
   "cell_type": "code",
   "execution_count": null,
   "metadata": {},
   "outputs": [],
   "source": [
    "\n",
    "addtoset={1,2,4,5,6}\n",
    "addtoset.add(\"hubli\")\n",
    "print(addtoset)"
   ]
  },
  {
   "cell_type": "code",
   "execution_count": null,
   "metadata": {},
   "outputs": [],
   "source": [
    "set1={1,3,5,7}\n",
    "set2={2,4,6}\n",
    "set1.update(set2)\n",
    "print(set1)\n",
    "# adds or joins or updates new set into old one"
   ]
  },
  {
   "cell_type": "code",
   "execution_count": null,
   "metadata": {},
   "outputs": [],
   "source": [
    "list1=[2,4,6]\n",
    "set1.update(list1)\n",
    "print(set1)\n",
    "# any iterable can be addedinto sets"
   ]
  }
 ],
 "metadata": {
  "kernelspec": {
   "display_name": "Python 3",
   "language": "python",
   "name": "python3"
  },
  "language_info": {
   "codemirror_mode": {
    "name": "ipython",
    "version": 3
   },
   "file_extension": ".py",
   "mimetype": "text/x-python",
   "name": "python",
   "nbconvert_exporter": "python",
   "pygments_lexer": "ipython3",
   "version": "3.11.2"
  },
  "orig_nbformat": 4
 },
 "nbformat": 4,
 "nbformat_minor": 2
}
