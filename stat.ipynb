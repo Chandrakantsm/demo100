{
 "cells": [
  {
   "cell_type": "code",
   "execution_count": 1,
   "metadata": {},
   "outputs": [
    {
     "data": {
      "text/plain": [
       "5"
      ]
     },
     "execution_count": 1,
     "metadata": {},
     "output_type": "execute_result"
    }
   ],
   "source": [
    "import statistics as st\n",
    "\n",
    "li = [1,2,3,4,5,6,7,8,9]\n",
    "st.mean(li)"
   ]
  },
  {
   "cell_type": "code",
   "execution_count": 2,
   "metadata": {},
   "outputs": [
    {
     "data": {
      "text/plain": [
       "25.0"
      ]
     },
     "execution_count": 2,
     "metadata": {},
     "output_type": "execute_result"
    }
   ],
   "source": [
    "import statistics as st\n",
    "\n",
    "li = [10,20,30,40]\n",
    "st.median(li)"
   ]
  },
  {
   "cell_type": "code",
   "execution_count": null,
   "metadata": {},
   "outputs": [],
   "source": [
    "import statistics as st\n",
    "\n",
    "li = [4,4,6,8,9,1,1,1,6,7]\n",
    "st.mode(li)"
   ]
  },
  {
   "cell_type": "code",
   "execution_count": 3,
   "metadata": {},
   "outputs": [
    {
     "data": {
      "text/plain": [
       "1"
      ]
     },
     "execution_count": 3,
     "metadata": {},
     "output_type": "execute_result"
    }
   ],
   "source": [
    "import statistics as st\n",
    "\n",
    "li = [4,4,6,8,9,1,1,1,6,7]\n",
    "st.mode(li)"
   ]
  },
  {
   "cell_type": "code",
   "execution_count": null,
   "metadata": {},
   "outputs": [],
   "source": [
    "from math import sqrt \n",
    "# given data\n",
    "x=[-2,-1,1,4,6,8]\n",
    "N=len(x)\n",
    "Mu= sum(x)/N  # 4.4\n",
    "x_mu =0\n",
    "for i in x:\n",
    "    x_mu = x_mu +  (i-Mu)**2\n",
    "prfloat(\"x-Mu:\",x_mu)  # 21.2\n",
    "    \n",
    "Sigma = sqrt( (x_mu)/N )\n",
    "prfloat(\"Standard Deviation:\",Sigma)\n",
    "# 1.9148542155126762"
   ]
  },
  {
   "cell_type": "code",
   "execution_count": null,
   "metadata": {},
   "outputs": [],
   "source": [
    "import pandas \n",
    "import matplotlib.pyplot as plt\n",
    "\n",
    "data =[['EMP001','M',34,123,'Normal',350],['EMP002','F',25,124,'Normal',300],\n",
    "       ['EMP003','M',39,150,'Normal',350],\n",
    "       ['EMP006','M',39,160,'Normal',350],\n",
    "       ['EMP007','M',39,165,'Normal',250],\n",
    "       ['EMP004','M',29,110,'Obesity',150],\n",
    "       ['EMP005','F',23,140,'Underweight',300],\n",
    "       ['EMP005','F',23,129,'Underweight',300],]\n",
    "\n",
    "dataframe= pandas.DataFrame(data,columns = ['Name','Gender','Age','Sales','BMI','income'])\n",
    "dataframe.hist()\n",
    "plt.show()"
   ]
  },
  {
   "cell_type": "code",
   "execution_count": null,
   "metadata": {},
   "outputs": [],
   "source": [
    "dataframe.plot.bar()\n",
    "plt.show()"
   ]
  },
  {
   "cell_type": "code",
   "execution_count": null,
   "metadata": {},
   "outputs": [],
   "source": [
    "import csv\n",
    "import pandas as pd\n",
    "import matplotlib.pyplot as plt\n",
    "database=[]\n",
    "column_names_list=[]\n",
    "i=0\n",
    "with open(\"csv_sheets/adm_data.csv\",\"r\") as file_handler:\n",
    "    data= csv.reader(file_handler)\n",
    "    \n",
    "    for line in data:\n",
    "        # prfloat(line)\n",
    "        if i==0 and i<11:\n",
    "            \n",
    "            column_names_list.append(line)\n",
    "            i=i+1\n",
    "            continue\n",
    "        Int_list=[float(line[0]),float(line[1]),float(line[2]),float(line[3]),float(line[4]),float(line[5]),float(line[6]),float(line[7]),float(line[8])]\n",
    "        database.append(Int_list)\n",
    "\n",
    "print(column_names_list[0])\n",
    "df= pd.DataFrame(database,columns=column_names_list[0])\n",
    "df.plot.bar()\n",
    "plt.show()"
   ]
  },
  {
   "cell_type": "code",
   "execution_count": null,
   "metadata": {},
   "outputs": [],
   "source": [
    "#box plt\n",
    "\n",
    "import pandas \n",
    "import matplotlib.pyplot as plt\n",
    "\n",
    "data =[['EMP001','M',70,123,'Normal',350],['EMP002','F',25,124,'Normal',300],\n",
    "       ['EMP003','M',39,150,'Normal',360],\n",
    "       ['EMP006','M',50,160,'Normal',320],\n",
    "       ['EMP007','M',45,165,'Normal',250],\n",
    "       ['EMP004','M',35,110,'Obesity',150],\n",
    "       ['EMP005','F',20,140,'Underweight',300],\n",
    "       ['EMP005','F',23,129,'Underweight',300],]\n",
    "\n",
    "dataframe= pandas.DataFrame(data,columns = ['Name','Gender','Age','Sales','BMI','income'])\n",
    "dataframe.plot.box()\n",
    "plt.show()"
   ]
  }
 ],
 "metadata": {
  "kernelspec": {
   "display_name": "Python 3",
   "language": "python",
   "name": "python3"
  },
  "language_info": {
   "codemirror_mode": {
    "name": "ipython",
    "version": 3
   },
   "file_extension": ".py",
   "mimetype": "text/x-python",
   "name": "python",
   "nbconvert_exporter": "python",
   "pygments_lexer": "ipython3",
   "version": "3.11.3"
  },
  "orig_nbformat": 4
 },
 "nbformat": 4,
 "nbformat_minor": 2
}
