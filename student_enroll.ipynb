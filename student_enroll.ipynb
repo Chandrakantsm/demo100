{
 "cells": [
  {
   "cell_type": "code",
   "execution_count": 3,
   "metadata": {},
   "outputs": [
    {
     "ename": "SyntaxError",
     "evalue": "invalid syntax (2818582537.py, line 22)",
     "output_type": "error",
     "traceback": [
      "\u001b[1;36m  Cell \u001b[1;32mIn[3], line 22\u001b[1;36m\u001b[0m\n\u001b[1;33m    elif c==2:\u001b[0m\n\u001b[1;37m    ^\u001b[0m\n\u001b[1;31mSyntaxError\u001b[0m\u001b[1;31m:\u001b[0m invalid syntax\n"
     ]
    }
   ],
   "source": [
    "# student_enroll\n",
    "c=int(input(\"enter 1 for enroll, 2 for retreive, 3 for delete, 4 to exit the loop\"))\n",
    "\n",
    "roll_no=[]\n",
    "name=[]\n",
    "age=[]\n",
    "if c==1:\n",
    "    def enroll():\n",
    "       # r=0 . it will fill details in first row\n",
    "         r=0\n",
    "\n",
    "    roll_no=int(input(\"Enter the Roll no :\"))\n",
    "    roll_no.append([r])\n",
    "    name=input(\"Enter name  of the student\")\n",
    "    name.append([r])\n",
    "    age=int(input(\"Enter the age of the student\"))\n",
    "    r=r+1\n",
    "    # r=r+1, it will increment r to 2 and fill values in 2nd row, for 2nd student, in list r[1]\n",
    "\n",
    "enroll()\n",
    "\n",
    "elif c==2:\n",
    "def retrieve():\n",
    "# provide the roll no to see the details of the student\n",
    "# if r_no =5 , it will print the details from 4th row\n",
    "    r_no=int(input(\"Enter the roll no to see the details of the student: \"))\n",
    "    print(\"roll no * name * age\")\n",
    "    print(roll_no[r_no-1],\"\",name[r_no-1],\"\",age[r_no-1]) \n",
    "\n",
    "retrieve()\n",
    "\n",
    "elif c==3:\n",
    "def deletedata():\n",
    "    # provide the roll no to delete the details of the student\n",
    "    r_no=int(input(\"Enter the roll no to delete the details of the student: \"))\n",
    "    del (roll_no[r_no-1],\"\",name[r_no-1],\"\",age[r_no-1]) \n",
    "    print(\"roll no * name * age\")\n",
    "    print(roll_no[r_no-1],\"\",name[r_no-1],\"\",age[r_no-1]) \n",
    "\n",
    "deletedata()    \n",
    "elif c==4:\n",
    "exit\n",
    "else: \n",
    "    print(\"pls provide the correct option\")"
   ]
  }
 ],
 "metadata": {
  "kernelspec": {
   "display_name": "Python 3",
   "language": "python",
   "name": "python3"
  },
  "language_info": {
   "codemirror_mode": {
    "name": "ipython",
    "version": 3
   },
   "file_extension": ".py",
   "mimetype": "text/x-python",
   "name": "python",
   "nbconvert_exporter": "python",
   "pygments_lexer": "ipython3",
   "version": "3.11.2"
  },
  "orig_nbformat": 4
 },
 "nbformat": 4,
 "nbformat_minor": 2
}
