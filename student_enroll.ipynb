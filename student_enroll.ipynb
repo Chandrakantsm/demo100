{
 "cells": [
  {
   "cell_type": "code",
   "execution_count": 16,
   "metadata": {},
   "outputs": [
    {
     "ename": "AttributeError",
     "evalue": "'str' object has no attribute 'append'",
     "output_type": "error",
     "traceback": [
      "\u001b[1;31m---------------------------------------------------------------------------\u001b[0m",
      "\u001b[1;31mAttributeError\u001b[0m                            Traceback (most recent call last)",
      "Cell \u001b[1;32mIn[16], line 47\u001b[0m\n\u001b[0;32m     44\u001b[0m     \u001b[39melse\u001b[39;00m: \n\u001b[0;32m     45\u001b[0m         \u001b[39mprint\u001b[39m(\u001b[39m\"\u001b[39m\u001b[39mpls provide the correct option\u001b[39m\u001b[39m\"\u001b[39m)\n\u001b[1;32m---> 47\u001b[0m main_prog()\n",
      "Cell \u001b[1;32mIn[16], line 37\u001b[0m, in \u001b[0;36mmain_prog\u001b[1;34m()\u001b[0m\n\u001b[0;32m     35\u001b[0m \u001b[39mdef\u001b[39;00m \u001b[39mmain_prog\u001b[39m():\n\u001b[0;32m     36\u001b[0m     \u001b[39mif\u001b[39;00m c\u001b[39m==\u001b[39m\u001b[39m1\u001b[39m:\n\u001b[1;32m---> 37\u001b[0m         enroll()\n\u001b[0;32m     38\u001b[0m     \u001b[39melif\u001b[39;00m c\u001b[39m==\u001b[39m\u001b[39m2\u001b[39m:\n\u001b[0;32m     39\u001b[0m         retrieve() \n",
      "Cell \u001b[1;32mIn[16], line 14\u001b[0m, in \u001b[0;36menroll\u001b[1;34m()\u001b[0m\n\u001b[0;32m     12\u001b[0m roll_no\u001b[39m.\u001b[39mappend([r])\n\u001b[0;32m     13\u001b[0m name\u001b[39m=\u001b[39m\u001b[39minput\u001b[39m(\u001b[39m\"\u001b[39m\u001b[39mEnter name  of the student\u001b[39m\u001b[39m\"\u001b[39m)\n\u001b[1;32m---> 14\u001b[0m name\u001b[39m.\u001b[39;49mappend([r])\n\u001b[0;32m     15\u001b[0m age\u001b[39m=\u001b[39m\u001b[39mint\u001b[39m(\u001b[39minput\u001b[39m(\u001b[39m\"\u001b[39m\u001b[39mEnter the age of the student\u001b[39m\u001b[39m\"\u001b[39m))\n\u001b[0;32m     16\u001b[0m r\u001b[39m=\u001b[39mr\u001b[39m+\u001b[39m\u001b[39m1\u001b[39m\n",
      "\u001b[1;31mAttributeError\u001b[0m: 'str' object has no attribute 'append'"
     ]
    }
   ],
   "source": [
    "# student_enroll\n",
    "c=int(input(\"enter 1 for enroll, 2 for retreive, 3 for delete, 4 to exit the loop\"))\n",
    "\n",
    "roll_no=[]\n",
    "name=[]\n",
    "age=[]\n",
    "\n",
    "def enroll():\n",
    "# r=0 . it will fill details in first row\n",
    "    r=0\n",
    "    r_no=int(input(\"Enter the Roll no :\"))\n",
    "    roll_no.append([r])\n",
    "    name=input(\"Enter name  of the student\")\n",
    "    name.append([r])\n",
    "    age=int(input(\"Enter the age of the student\"))\n",
    "    r=r+1\n",
    "    # r=r+1, it will increment r to 2 and fill values in 2nd row, for 2nd student, in list r[1]\n",
    "    \n",
    "def retrieve():\n",
    "    # provide the roll no to see the details of the student\n",
    "    # if r_no =5 , it will print the details from 4th row\n",
    "    r_no=int(input(\"Enter the roll no to see the details of the student: \"))\n",
    "    print(\"roll no * name * age\")\n",
    "    print(roll_no[r_no-1],name[r_no-1],age[r_no-1]) \n",
    "\n",
    "\n",
    "def deletedata():\n",
    "    # provide the roll no to delete the details of the student\n",
    "    r_no=int(input(\"Enter the roll no to delete the details of the student: \"))\n",
    "    del (roll_no[r_no-1],name[r_no-1],age[r_no-1]) \n",
    "    print(\"roll no * name * age\")\n",
    "    print(roll_no[r_no-1],name[r_no-1],age[r_no-1]) \n",
    "\n",
    "\n",
    "def main_prog():\n",
    "    if c==1:\n",
    "        enroll()\n",
    "    elif c==2:\n",
    "        retrieve() \n",
    "    elif c==3:\n",
    "        deletedata()  \n",
    "    elif c==4:\n",
    "        exit\n",
    "    else: \n",
    "        print(\"pls provide the correct option\")\n",
    "        \n",
    "main_prog()\n",
    "    \n",
    "    "
   ]
  }
 ],
 "metadata": {
  "kernelspec": {
   "display_name": "Python 3",
   "language": "python",
   "name": "python3"
  },
  "language_info": {
   "codemirror_mode": {
    "name": "ipython",
    "version": 3
   },
   "file_extension": ".py",
   "mimetype": "text/x-python",
   "name": "python",
   "nbconvert_exporter": "python",
   "pygments_lexer": "ipython3",
   "version": "3.11.2"
  },
  "orig_nbformat": 4
 },
 "nbformat": 4,
 "nbformat_minor": 2
}
