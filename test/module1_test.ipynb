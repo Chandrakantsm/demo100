{
 "cells": [
  {
   "cell_type": "code",
   "execution_count": 1,
   "metadata": {},
   "outputs": [
    {
     "name": "stdout",
     "output_type": "stream",
     "text": [
      "12 is larger than 8 7\n"
     ]
    }
   ],
   "source": [
    "#  find the largest of three elements\n",
    "a,b,c=8,12,7\n",
    "\n",
    "#  checks weathet a is larger than both b and c\n",
    "if (a>b) and (a>c):\n",
    "    print(a,\"is larger than\",b,c  )\n",
    "    \n",
    "    #  checks wether b is larger than both c and a\n",
    "elif (b>a) and(b>c):\n",
    "    print(b,\"is larger than\",a,c)\n",
    "    \n",
    "    #directly prints c is the largest \n",
    "else:\n",
    "    print(c,\"is the larger than\",a,c)    "
   ]
  },
  {
   "cell_type": "code",
   "execution_count": null,
   "metadata": {},
   "outputs": [],
   "source": [
    "# prg to find a number is odd numbers in the list \n",
    "list=[10,9,8,7,6,5,4,3,2,1]\n",
    "\n",
    "# for loop iterates thru all the elements of the list \n",
    "for i in list:\n",
    "    if i%2==1:\n",
    "        print(\" the number \", list[i], \"is odd\")"
   ]
  },
  {
   "cell_type": "code",
   "execution_count": 2,
   "metadata": {},
   "outputs": [
    {
     "name": "stdout",
     "output_type": "stream",
     "text": [
      "2  is even number.\n"
     ]
    }
   ],
   "source": [
    "#  prg to check weather a number is ood or even\n",
    "n=int(input(\" enter a number\"))\n",
    "if n%2==0:\n",
    "    print(n,\" is even number.\")\n",
    "else:\n",
    "    print(n,\"is odd number.\")   "
   ]
  },
  {
   "cell_type": "code",
   "execution_count": 4,
   "metadata": {},
   "outputs": [
    {
     "name": "stdout",
     "output_type": "stream",
     "text": [
      "31 is prime number.\n"
     ]
    }
   ],
   "source": [
    "#  python program to find weather a number is prime or not\n",
    "n=31\n",
    "flag=False\n",
    "\n",
    "# skipping 0 and 1, as there are no nums between them \n",
    "for i in range(2,n):\n",
    "    if (n%i==0):\n",
    "        flag=True\n",
    "        print(n,\"is not a prime number\")\n",
    "        break\n",
    "print(n,\"is prime number.\") "
   ]
  },
  {
   "cell_type": "code",
   "execution_count": 5,
   "metadata": {},
   "outputs": [
    {
     "name": "stdout",
     "output_type": "stream",
     "text": [
      "simple interst for rs 7500 for 5 years, @  10.0 % rate of interst is Rs 3750.0\n"
     ]
    }
   ],
   "source": [
    "#  python prg to find simple interest for rs 7500\n",
    "p=7500\n",
    "t=int(input(\"enter the time in years.\"))\n",
    "r=float(input(\"eneter the rate of interest.\"))\n",
    "\n",
    "#  calculation of simple interst\n",
    "simple_interest = (p*t*r)/100\n",
    "\n",
    "print(\"simple interst for rs 7500 for\",t,\"years, @ \",r,\"% rate of interst is Rs\",simple_interest)"
   ]
  }
 ],
 "metadata": {
  "kernelspec": {
   "display_name": "Python 3",
   "language": "python",
   "name": "python3"
  },
  "language_info": {
   "codemirror_mode": {
    "name": "ipython",
    "version": 3
   },
   "file_extension": ".py",
   "mimetype": "text/x-python",
   "name": "python",
   "nbconvert_exporter": "python",
   "pygments_lexer": "ipython3",
   "version": "3.11.3"
  },
  "orig_nbformat": 4
 },
 "nbformat": 4,
 "nbformat_minor": 2
}
