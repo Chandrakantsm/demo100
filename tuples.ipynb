{
 "cells": [
  {
   "attachments": {},
   "cell_type": "markdown",
   "metadata": {},
   "source": [
    "creating an empty tuple"
   ]
  },
  {
   "cell_type": "code",
   "execution_count": 20,
   "metadata": {},
   "outputs": [
    {
     "data": {
      "text/plain": [
       "()"
      ]
     },
     "execution_count": 20,
     "metadata": {},
     "output_type": "execute_result"
    }
   ],
   "source": [
    "tuple1=()\n",
    "tuple1"
   ]
  },
  {
   "attachments": {},
   "cell_type": "markdown",
   "metadata": {},
   "source": [
    "creating a tuple with use of string\n"
   ]
  },
  {
   "cell_type": "code",
   "execution_count": 21,
   "metadata": {},
   "outputs": [
    {
     "data": {
      "text/plain": [
       "('geeks', 'for')"
      ]
     },
     "execution_count": 21,
     "metadata": {},
     "output_type": "execute_result"
    }
   ],
   "source": [
    "tuple1=(\"geeks\", \"for\")\n",
    "tuple1"
   ]
  },
  {
   "attachments": {},
   "cell_type": "markdown",
   "metadata": {},
   "source": [
    "creating a tupe with the use of list"
   ]
  },
  {
   "cell_type": "code",
   "execution_count": 29,
   "metadata": {},
   "outputs": [
    {
     "name": "stdout",
     "output_type": "stream",
     "text": [
      "[1, 2, 3, 5, 7, 8]\n"
     ]
    },
    {
     "ename": "TypeError",
     "evalue": "'tuple' object is not callable",
     "output_type": "error",
     "traceback": [
      "\u001b[1;31m---------------------------------------------------------------------------\u001b[0m",
      "\u001b[1;31mTypeError\u001b[0m                                 Traceback (most recent call last)",
      "Cell \u001b[1;32mIn[29], line 3\u001b[0m\n\u001b[0;32m      1\u001b[0m \u001b[39mlist\u001b[39m\u001b[39m=\u001b[39m[\u001b[39m1\u001b[39m,\u001b[39m2\u001b[39m,\u001b[39m3\u001b[39m,\u001b[39m5\u001b[39m,\u001b[39m7\u001b[39m,\u001b[39m8\u001b[39m]\n\u001b[0;32m      2\u001b[0m \u001b[39mprint\u001b[39m(\u001b[39mlist\u001b[39m)\n\u001b[1;32m----> 3\u001b[0m \u001b[39mprint\u001b[39m(\u001b[39mtuple\u001b[39;49m(\u001b[39mlist\u001b[39;49m))\n\u001b[0;32m      4\u001b[0m \u001b[39m# proble here\u001b[39;00m\n",
      "\u001b[1;31mTypeError\u001b[0m: 'tuple' object is not callable"
     ]
    }
   ],
   "source": [
    "list=[1,2,3,5,7,8]\n",
    "print(list)\n",
    "print(tuple(list))\n",
    "# proble here"
   ]
  },
  {
   "cell_type": "code",
   "execution_count": 32,
   "metadata": {},
   "outputs": [
    {
     "data": {
      "text/plain": [
       "(1, 4, 'geeks', 'g', 'for')"
      ]
     },
     "execution_count": 32,
     "metadata": {},
     "output_type": "execute_result"
    }
   ],
   "source": [
    "# creating tuple with mixed datatypes\n",
    "tuple1=(1,4,\"geeks\",\"g\",\"for\")\n",
    "tuple1"
   ]
  },
  {
   "cell_type": "code",
   "execution_count": 37,
   "metadata": {},
   "outputs": [
    {
     "data": {
      "text/plain": [
       "((5, 8, 7, 9), ('geeks', 'for', 'geeks'))"
      ]
     },
     "execution_count": 37,
     "metadata": {},
     "output_type": "execute_result"
    }
   ],
   "source": [
    "# creating a tuple with nested tuples\n",
    "tuple1=(5,8,7,9)\n",
    "tuple2=(\"geeks\",\"for\",\"geeks\")\n",
    "tuple3=(tuple1,tuple2)\n",
    "tuple3"
   ]
  },
  {
   "cell_type": "code",
   "execution_count": 41,
   "metadata": {},
   "outputs": [
    {
     "data": {
      "text/plain": [
       "(1, 2, 3, 'teeks', 1, 2, 3, 'teeks', 1, 2, 3, 'teeks')"
      ]
     },
     "execution_count": 41,
     "metadata": {},
     "output_type": "execute_result"
    }
   ],
   "source": [
    "# creating a tuple with repetation\n",
    "tuple1=(1,2,3,\"teeks\")*3\n",
    "tuple1"
   ]
  },
  {
   "cell_type": "code",
   "execution_count": 47,
   "metadata": {},
   "outputs": [
    {
     "name": "stdout",
     "output_type": "stream",
     "text": [
      "('geeks',)\n",
      "(('geeks',),)\n",
      "((('geeks',),),)\n"
     ]
    }
   ],
   "source": [
    "# creating a tuple with the loop\n",
    "tuple1=(\"geeks\")\n",
    "n=3\n",
    "for i in range(int(n)):\n",
    "    tuple1=(tuple1,) \n",
    "    # , inthe above line making lot of difference\n",
    "    print(tuple1)"
   ]
  },
  {
   "cell_type": "code",
   "execution_count": 64,
   "metadata": {},
   "outputs": [
    {
     "name": "stdout",
     "output_type": "stream",
     "text": [
      "a\n"
     ]
    },
    {
     "data": {
      "text/plain": [
       "'h'"
      ]
     },
     "execution_count": 64,
     "metadata": {},
     "output_type": "execute_result"
    }
   ],
   "source": [
    "# accessing tuples with indices\n",
    "tuple=(\"a\",\"b\",\"geeks\",\"h\",5,6.8)\n",
    "print(tuple[0])\n",
    "tuple[2]\n",
    "tuple[-3]"
   ]
  },
  {
   "cell_type": "code",
   "execution_count": 63,
   "metadata": {},
   "outputs": [
    {
     "name": "stdout",
     "output_type": "stream",
     "text": [
      "geeks for geeks hubli is  a city\n"
     ]
    }
   ],
   "source": [
    "# tuple unpacking\n",
    "tuple=(\"geeks\",\"for\",\"geeks\",\"hubli\",\"is \",\"a\",\"city\")\n",
    "a,b,c,d,e,f,g=tuple\n",
    "print(a ,b, c,d,e,f,g)\n",
    "# how to assign when large values are there. how to unbox paragraphs"
   ]
  },
  {
   "cell_type": "code",
   "execution_count": null,
   "metadata": {},
   "outputs": [],
   "source": []
  }
 ],
 "metadata": {
  "kernelspec": {
   "display_name": "Python 3",
   "language": "python",
   "name": "python3"
  },
  "language_info": {
   "codemirror_mode": {
    "name": "ipython",
    "version": 3
   },
   "file_extension": ".py",
   "mimetype": "text/x-python",
   "name": "python",
   "nbconvert_exporter": "python",
   "pygments_lexer": "ipython3",
   "version": "3.11.2"
  },
  "orig_nbformat": 4
 },
 "nbformat": 4,
 "nbformat_minor": 2
}
