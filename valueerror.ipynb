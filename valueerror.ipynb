{
 "cells": [
  {
   "cell_type": "code",
   "execution_count": 25,
   "metadata": {},
   "outputs": [
    {
     "name": "stdout",
     "output_type": "stream",
     "text": [
      "the key is not present \n"
     ]
    }
   ],
   "source": [
    "dict={1:2,2:4,3:6}\n",
    "\n",
    "\n",
    "try:\n",
    "    print(dict[4])\n",
    "except KeyError:\n",
    "    print(\"the key is not present \")  \n",
    "    \n",
    "      \n",
    "    \n",
    "\n"
   ]
  },
  {
   "cell_type": "code",
   "execution_count": 26,
   "metadata": {},
   "outputs": [
    {
     "name": "stdout",
     "output_type": "stream",
     "text": [
      "sorry you cant divide by zero\n",
      "the answer is  3\n"
     ]
    }
   ],
   "source": [
    "def divide(x,y):\n",
    "    try:\n",
    "        result=x//y\n",
    "        print(\"the answer is \", result)\n",
    "    except ZeroDivisionError:\n",
    "        print(\"sorry you cant divide by zero\")\n",
    "        y=1    \n",
    "        result=x//y\n",
    "        print(\"the answer is \", result)\n",
    "\n",
    "divide(3,0)  "
   ]
  }
 ],
 "metadata": {
  "kernelspec": {
   "display_name": "Python 3",
   "language": "python",
   "name": "python3"
  },
  "language_info": {
   "codemirror_mode": {
    "name": "ipython",
    "version": 3
   },
   "file_extension": ".py",
   "mimetype": "text/x-python",
   "name": "python",
   "nbconvert_exporter": "python",
   "pygments_lexer": "ipython3",
   "version": "3.11.2"
  },
  "orig_nbformat": 4
 },
 "nbformat": 4,
 "nbformat_minor": 2
}
