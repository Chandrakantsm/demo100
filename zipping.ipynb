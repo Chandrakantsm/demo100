{
 "cells": [
  {
   "cell_type": "code",
   "execution_count": 54,
   "metadata": {},
   "outputs": [
    {
     "name": "stdout",
     "output_type": "stream",
     "text": [
      "{1: 'hemanth', 4: 'sagar', 3: 'pushpa'}\n"
     ]
    }
   ],
   "source": [
    "name={\"sagar\",\"hemanth\",\"yusuf\",\"pushpa\"}\n",
    "roll_no=(1,4,3,4)\n",
    "age=[10,20,30,40]\n",
    "# using zip function to map values\n",
    "mapped=zip(roll_no,name)\n",
    "# print(set(mapped))\n",
    "print(dict(mapped))\n",
    "# print(list(mapped)"
   ]
  },
  {
   "cell_type": "code",
   "execution_count": 45,
   "metadata": {},
   "outputs": [
    {
     "name": "stdout",
     "output_type": "stream",
     "text": [
      "{(3, 'pushpa'), (4, 'yusuf'), (4, 'sagar'), (1, 'hemanth')}\n"
     ]
    }
   ],
   "source": [
    "name={\"sagar\",\"hemanth\",\"yusuf\",\"pushpa\"}\n",
    "roll_no=(1,4,3,4)\n",
    "# using zip function to map values\n",
    "mapped=zip(roll_no,name)\n",
    "print(set(mapped))\n"
   ]
  }
 ],
 "metadata": {
  "kernelspec": {
   "display_name": "Python 3",
   "language": "python",
   "name": "python3"
  },
  "language_info": {
   "codemirror_mode": {
    "name": "ipython",
    "version": 3
   },
   "file_extension": ".py",
   "mimetype": "text/x-python",
   "name": "python",
   "nbconvert_exporter": "python",
   "pygments_lexer": "ipython3",
   "version": "3.11.2"
  },
  "orig_nbformat": 4
 },
 "nbformat": 4,
 "nbformat_minor": 2
}
